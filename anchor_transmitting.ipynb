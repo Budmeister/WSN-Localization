{
 "cells": [
  {
   "cell_type": "markdown",
   "metadata": {},
   "source": [
    "# `anchor_transmitting.ipynb`\n",
    "If we think about \"transmitting\" from the location of the anchor nodes the received signals, they should all construct at the location of the target node. "
   ]
  },
  {
   "cell_type": "code",
   "execution_count": 19,
   "metadata": {},
   "outputs": [],
   "source": [
    "from WSN import *\n",
    "import mutual_information as mtin\n",
    "from scipy.signal import find_peaks\n",
    "from color import *\n",
    "import os\n",
    "from tqdm import tqdm"
   ]
  },
  {
   "cell_type": "code",
   "execution_count": 20,
   "metadata": {},
   "outputs": [],
   "source": [
    "mtin.solve_default_fn_equ()"
   ]
  },
  {
   "cell_type": "code",
   "execution_count": 35,
   "metadata": {},
   "outputs": [],
   "source": [
    "import cv2\n",
    "\n",
    "def animate_color_video(fname, x):\n",
    "    # BW\n",
    "    # y = 255 * (x-x.min()) / (x.max()-x.min())\n",
    "    # BW inverted\n",
    "    #y = 255 * ( 1 - (x-x.min()) / (x.max()-x.min()) )\n",
    "    y = x.astype(np.uint8)\n",
    "    nt, nx, ny, _ = x.shape\n",
    "    print(f\"nt = {nt:d}, nx = {nx:d}, ny = {ny:d}\")\n",
    "    # write video using opencv\n",
    "    frate = 30\n",
    "    out = cv2.VideoWriter(fname, \\\n",
    "                          cv2.VideoWriter_fourcc(*'mp4v'), \\\n",
    "                          frate, (nx,ny))\n",
    "    for i in range(0,nt):\n",
    "        print(f\"i = {i:d}/{nt:d}\\r\", end=\"\")\n",
    "        # img = np.ones((nx, ny, 3), dtype=np.uint8)\n",
    "        # for j in range(3): img[:,:] = y[i,::-1,:]\n",
    "        img = y[i, ::-1, :]\n",
    "        out.write(img)\n",
    "    out.release()\n",
    "    print(\"\")"
   ]
  },
  {
   "cell_type": "code",
   "execution_count": 44,
   "metadata": {},
   "outputs": [
    {
     "name": "stdout",
     "output_type": "stream",
     "text": [
      "10\n"
     ]
    }
   ],
   "source": [
    "c = 1.6424885622140555\n",
    "dt = 0.1\n",
    "period = 11.6\n",
    "wavelength = c * period\n",
    "N = 10\n",
    "wsn = WSN(100, N=N, D=142, std=0, c=c)\n",
    "wsn.reset_nodes()\n",
    "# nodes = np.array([\n",
    "#     [55, 55],\n",
    "#     [32, 31],\n",
    "#     [84, 27],\n",
    "# ])\n",
    "nodes = wsn.nodes\n",
    "sigs = np.array([\n",
    "    mtin.default_fn_sol[400:, 0, int(node[1]), int(node[0])]\n",
    "    for node in nodes\n",
    "])"
   ]
  },
  {
   "cell_type": "code",
   "execution_count": 45,
   "metadata": {},
   "outputs": [],
   "source": [
    "# Helper function, interp_signal(sig, dt, t)\n",
    "def interp_signal(sig, dt, t):\n",
    "    i = t / dt\n",
    "    if i < 0 or i >= len(sig):\n",
    "        raise ValueError(f\"t is not within the range of sig, [0, {len(sig) * dt}). Given {t}.\")\n",
    "    ii = int(i)\n",
    "    if ii == 0 or ii == len(sig) - 1:\n",
    "        return sig[ii]\n",
    "    less = sig[ii]\n",
    "    more = sig[ii + 1]\n",
    "    return interpolate(less, more, i - ii)\n"
   ]
  },
  {
   "cell_type": "code",
   "execution_count": 46,
   "metadata": {},
   "outputs": [],
   "source": [
    "node_color = [0, 0, 0xff]"
   ]
  },
  {
   "cell_type": "code",
   "execution_count": 47,
   "metadata": {},
   "outputs": [
    {
     "name": "stderr",
     "output_type": "stream",
     "text": [
      "100%|██████████| 348/348 [06:29<00:00,  1.12s/it]\n"
     ]
    },
    {
     "ename": "IndexError",
     "evalue": "only integers, slices (`:`), ellipsis (`...`), numpy.newaxis (`None`) and integer or boolean arrays are valid indices",
     "output_type": "error",
     "traceback": [
      "\u001b[1;31m---------------------------------------------------------------------------\u001b[0m",
      "\u001b[1;31mIndexError\u001b[0m                                Traceback (most recent call last)",
      "\u001b[1;32md:\\Repositories\\WSN-Localization\\anchor_transmitting.ipynb Cell 8'\u001b[0m in \u001b[0;36m<cell line: 35>\u001b[1;34m()\u001b[0m\n\u001b[0;32m     <a href='vscode-notebook-cell:/d%3A/Repositories/WSN-Localization/anchor_transmitting.ipynb#ch0000008?line=33'>34</a>\u001b[0m frames \u001b[39m=\u001b[39m frames\u001b[39m.\u001b[39mastype(np\u001b[39m.\u001b[39mint8)\n\u001b[0;32m     <a href='vscode-notebook-cell:/d%3A/Repositories/WSN-Localization/anchor_transmitting.ipynb#ch0000008?line=34'>35</a>\u001b[0m \u001b[39mfor\u001b[39;00m node \u001b[39min\u001b[39;00m nodes:\n\u001b[1;32m---> <a href='vscode-notebook-cell:/d%3A/Repositories/WSN-Localization/anchor_transmitting.ipynb#ch0000008?line=35'>36</a>\u001b[0m     frames[:, node[\u001b[39m1\u001b[39m], node[\u001b[39m0\u001b[39m]] \u001b[39m=\u001b[39m node_color\n",
      "\u001b[1;31mIndexError\u001b[0m: only integers, slices (`:`), ellipsis (`...`), numpy.newaxis (`None`) and integer or boolean arrays are valid indices"
     ]
    }
   ],
   "source": [
    "frate = 30\n",
    "num_frames = int(period * frate)\n",
    "n = mtin.default_fn_equ_params[\"n\"]\n",
    "frames = np.empty((num_frames, n, n, 3))\n",
    "\n",
    "for i in tqdm(range(num_frames)):\n",
    "    phase_shift = i / frate\n",
    "    frame = np.empty((n, n, 3))\n",
    "    major_data = np.zeros((n, n))\n",
    "    for node, sig in zip(nodes, sigs):\n",
    "        # data = np.empty((n, n))\n",
    "        # for x in range(n):\n",
    "        #     for y in range(n):\n",
    "        #         point = np.array([x, y])\n",
    "\n",
    "        #         d = dist(point, node)\n",
    "        #         t = d / c + phase_shift\n",
    "        #         val = interp_signal(sig, dt, t)\n",
    "        #         data[y, x] = val\n",
    "        data = np.array([\n",
    "            [\n",
    "                interp_signal(sig, dt, dist(np.array([x, y]), node) / c + phase_shift)\n",
    "                for x in range(n)\n",
    "            ]\n",
    "            for y in range(n)\n",
    "        ])\n",
    "\n",
    "        major_data += data\n",
    "\n",
    "    for j in range(3): frame[:, :, j] = major_data\n",
    "    frames[i] = frame\n",
    "\n",
    "\n"
   ]
  },
  {
   "cell_type": "code",
   "execution_count": 48,
   "metadata": {},
   "outputs": [
    {
     "name": "stderr",
     "output_type": "stream",
     "text": [
      "C:\\Users\\brian\\AppData\\Local\\Temp\\ipykernel_27824\\886943957.py:1: RuntimeWarning: overflow encountered in byte_scalars\n",
      "  frames = 255 * (frames-frames.min()) / (frames.max()-frames.min())\n"
     ]
    }
   ],
   "source": [
    "\n",
    "frames = 255 * (frames-frames.min()) / (frames.max()-frames.min())\n",
    "frames = frames.astype(np.int8)\n",
    "for node in nodes:\n",
    "    frames[:, int(node[1]), int(node[0])] = node_color"
   ]
  },
  {
   "cell_type": "code",
   "execution_count": 49,
   "metadata": {},
   "outputs": [
    {
     "name": "stdout",
     "output_type": "stream",
     "text": [
      "nt = 348, nx = 100, ny = 100\n",
      "i = 347/348\n"
     ]
    }
   ],
   "source": [
    "\n",
    "dir = \"./fn_videos/anchor_transmitting1/\"\n",
    "os.makedirs(dir, exist_ok=True)\n",
    "mtin.save_params(mtin.default_fn_equ_params, dir + \"params.json\")\n",
    "animate_color_video(dir + \"video.mp4\", frames)"
   ]
  }
 ],
 "metadata": {
  "kernelspec": {
   "display_name": "Python 3.8.10 ('vwsn': venv)",
   "language": "python",
   "name": "python3"
  },
  "language_info": {
   "codemirror_mode": {
    "name": "ipython",
    "version": 3
   },
   "file_extension": ".py",
   "mimetype": "text/x-python",
   "name": "python",
   "nbconvert_exporter": "python",
   "pygments_lexer": "ipython3",
   "version": "3.8.10"
  },
  "orig_nbformat": 4,
  "vscode": {
   "interpreter": {
    "hash": "0a326387514bff8cff46362682c6b5d6706650c507f9d6555fe15603d3afa14e"
   }
  }
 },
 "nbformat": 4,
 "nbformat_minor": 2
}
