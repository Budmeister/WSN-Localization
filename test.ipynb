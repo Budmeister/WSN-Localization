{
 "cells": [
  {
   "cell_type": "code",
   "execution_count": 1,
   "metadata": {},
   "outputs": [],
   "source": [
    "from App import *"
   ]
  },
  {
   "cell_type": "code",
   "execution_count": 2,
   "metadata": {},
   "outputs": [],
   "source": [
    "wsn = WSN(100, 9)\n",
    "wsn.nodes = np.array([[64.86120825, 91.9678023 ],\n",
    "            [34.051292  , 78.60951157],\n",
    "            [39.23821726, 79.30016241],\n",
    "            [ 2.89299521, 16.93997542],\n",
    "            [66.56985748, 68.30029752],\n",
    "            [77.38586504, 25.22644453],\n",
    "            [ 8.18606883, 89.02124324],\n",
    "            [96.13369847, 45.94076804],\n",
    "            [87.70729065, 91.99485646]])\n",
    "wsn.D = 200\n",
    "wsn.reset_anchors(8)\n"
   ]
  },
  {
   "cell_type": "code",
   "execution_count": 32,
   "metadata": {},
   "outputs": [],
   "source": [
    "def get_TDOA_H_and_b(self, results, *args, **kwargs):\n",
    "    r1, t10, no1, *_ = results[0]\n",
    "\n",
    "    # No transpose, because \"rn - r1\" are being inserted as rows\n",
    "    H = np.array([rn - r1 for n, (rn, *_) in enumerate(results) if n != 0])\n",
    "    H = np.concatenate((H, np.transpose([[self.c * (tn0 - t10) for n, (rn, tn0, *_) in enumerate(results) if n != 0]])), 1)\n",
    "    print(H)\n",
    "    norm_r1_2 = np.dot(r1, r1)\n",
    "    t10_2 = t10 ** 2\n",
    "    tdoa = [tn0 - t10 for n, (rn, tn0, *_) in enumerate(results) if n != 0]\n",
    "    print(tdoa)\n",
    "    b = np.array([\n",
    "        [np.dot(rn, rn) - norm_r1_2 - (self.c * (tn0 - t10)) ** 2]\n",
    "        for n, (rn, tn0, no, *_) in enumerate(results) if n != 0\n",
    "    ]) * 0.5\n",
    "    return H, b"
   ]
  },
  {
   "cell_type": "code",
   "execution_count": 33,
   "metadata": {},
   "outputs": [
    {
     "name": "stdout",
     "output_type": "stream",
     "text": [
      "[[-30.80991625 -13.35829073  32.45429624]\n",
      " [-25.62299099 -12.66763989  27.25785684]\n",
      " [-61.96821304 -75.02782688  90.40892301]\n",
      " [  1.70864923 -23.66750478   8.90643226]\n",
      " [ 12.52465679 -66.74135777  44.71537476]\n",
      " [-56.67513942  -2.94655906  56.73070156]\n",
      " [ 31.27249022 -46.02703426  23.97252404]]\n",
      "[1.0818098745308465e-07, 9.085952279156315e-08, 3.0136307670155407e-07, 2.9688107526930526e-08, 1.490512492050805e-07, 1.891023385434686e-07, 7.990841346735943e-08]\n"
     ]
    }
   ],
   "source": [
    "results = wsn.transmit(8, wsn.nodes[8])\n",
    "H, b = get_TDOA_H_and_b(wsn, results)\n"
   ]
  },
  {
   "cell_type": "code",
   "execution_count": 34,
   "metadata": {},
   "outputs": [
    {
     "name": "stdout",
     "output_type": "stream",
     "text": [
      "[[-30.80991625 -13.35829073  32.45429624]\n",
      " [-25.62299099 -12.66763989  27.25785684]\n",
      " [-61.96821304 -75.02782688  90.40892301]\n",
      " [  1.70864923 -23.66750478   8.90643226]\n",
      " [ 12.52465679 -66.74135777  44.71537476]\n",
      " [-56.67513942  -2.94655906  56.73070156]\n",
      " [ 31.27249022 -46.02703426  23.97252404]]\n",
      "[[ -3189.69427178]\n",
      " [ -2789.94515146]\n",
      " [-10271.74708347]\n",
      " [ -1823.95048244]\n",
      " [ -4019.786062  ]\n",
      " [ -3945.81601225]\n",
      " [  -943.74637739]]\n",
      "[[87.70729065]\n",
      " [91.99485646]\n",
      " [22.84609842]]\n",
      "[87.70729065 91.99485646]\n",
      "{0, 1, 2, 3, 4, 5, 6, 7}\n"
     ]
    }
   ],
   "source": [
    "print(H)\n",
    "print(b)\n",
    "print(np.matmul(np.linalg.pinv(H), b))\n",
    "print(wsn.nodes[8])\n",
    "print(wsn.known_nodes)"
   ]
  },
  {
   "cell_type": "code",
   "execution_count": 6,
   "metadata": {},
   "outputs": [
    {
     "name": "stdout",
     "output_type": "stream",
     "text": [
      "[39.23821726 79.30016241]\n",
      "[87.70729065 91.99485646]\n",
      "50.10395525613035\n",
      "8\n",
      "[22.846098418661402, 55.300394654586796, 50.10395525613035, 113.25502142912762, 31.75253067674056, 67.56147318018554, 79.57679998170198, 46.81862245886923, 0.0]\n"
     ]
    }
   ],
   "source": [
    "print(wsn.nodes[2])\n",
    "print(wsn.nodes[8])\n",
    "print(dist(wsn.nodes[8], wsn.nodes[2]))\n",
    "print(len(results))\n",
    "print([dist(n, wsn.nodes[8]) for n in wsn.nodes])\n"
   ]
  }
 ],
 "metadata": {
  "interpreter": {
   "hash": "3b1827d4b6462cc460901af0bc0d075c933010817877a813d51f78a107cbf6e5"
  },
  "kernelspec": {
   "display_name": "Python 3.8.10 64-bit",
   "language": "python",
   "name": "python3"
  },
  "language_info": {
   "codemirror_mode": {
    "name": "ipython",
    "version": 3
   },
   "file_extension": ".py",
   "mimetype": "text/x-python",
   "name": "python",
   "nbconvert_exporter": "python",
   "pygments_lexer": "ipython3",
   "version": "3.8.10"
  },
  "orig_nbformat": 4
 },
 "nbformat": 4,
 "nbformat_minor": 2
}
