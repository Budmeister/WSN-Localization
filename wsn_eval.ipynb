{
 "cells": [
  {
   "cell_type": "code",
   "execution_count": 5,
   "metadata": {},
   "outputs": [],
   "source": [
    "from WSN import *\n",
    "import matplotlib.pyplot as plt\n",
    "from tqdm import tqdm\n",
    "from wsn_eval import *\n",
    "from numpy.polynomial import Polynomial"
   ]
  },
  {
   "cell_type": "markdown",
   "metadata": {},
   "source": [
    "Run either the following cell (2) to read from file or cell (3) to recalculaate noise_factors, successes, and errors."
   ]
  },
  {
   "cell_type": "code",
   "execution_count": null,
   "metadata": {},
   "outputs": [],
   "source": [
    "noise_factors = np.genfromtxt(\"local/noise_factors.csv\", delimiter=\",\")\n",
    "successes = np.genfromtxt(\"local/successes.csv\", delimiter=\",\")\n",
    "errors = np.genfromtxt(\"local/errors.csv\", delimiter=\",\")\n"
   ]
  },
  {
   "cell_type": "code",
   "execution_count": 24,
   "metadata": {},
   "outputs": [
    {
     "name": "stderr",
     "output_type": "stream",
     "text": [
      "100%|██████████| 1000/1000 [1:04:33<00:00,  3.87s/it]\n"
     ]
    },
    {
     "data": {
      "image/png": "[encoded data removed]",
      "text/plain": [
       "<Figure size 432x288 with 1 Axes>"
      ]
     },
     "metadata": {
      "needs_background": "light"
     },
     "output_type": "display_data"
    }
   ],
   "source": [
    "wsn = WSN(100, 11, D=200)\n",
    "\n",
    "num_trials = 1000\n",
    "\n",
    "noise_factors = np.arange(start=0, stop=1, step=0.001)\n",
    "successes = []\n",
    "errors = []\n",
    "for nf in tqdm(noise_factors):\n",
    "    wsn.noise_factor = nf\n",
    "    avg_success = 0\n",
    "    avg_error = 0\n",
    "    for _ in range(num_trials):\n",
    "        wsn.reset_nodes()\n",
    "        wsn.reset_anchors()\n",
    "        est_pos = wsn.localize(method=\"TDOA\")\n",
    "        success, error = err(est_pos, wsn.nodes, wsn.anchor_nodes)\n",
    "        avg_success += success\n",
    "        avg_error += error\n",
    "    avg_success /= num_trials\n",
    "    avg_error /= num_trials\n",
    "    successes.append(avg_success)\n",
    "    errors.append(avg_error)\n",
    "\n",
    "plt.figure()\n",
    "plt.plot(noise_factors, successes)\n",
    "plt.plot(noise_factors, errors)\n",
    "plt.show()"
   ]
  },
  {
   "cell_type": "code",
   "execution_count": 29,
   "metadata": {},
   "outputs": [
    {
     "name": "stdout",
     "output_type": "stream",
     "text": [
      "58.113439914246925 + 74.11645315309603 x**1\n"
     ]
    },
    {
     "data": {
      "image/png": "[encoded data removed]",
      "text/plain": [
       "<Figure size 432x288 with 1 Axes>"
      ]
     },
     "metadata": {
      "needs_background": "light"
     },
     "output_type": "display_data"
    }
   ],
   "source": [
    "num_noise_factors = len(noise_factors)\n",
    "to_show = int(num_noise_factors * 0.9)\n",
    "\n",
    "fit = Polynomial.fit(noise_factors[:to_show], errors[:to_show], deg=1)\n",
    "\n",
    "print(fit)\n",
    "\n",
    "plt.figure()\n",
    "plt.plot(noise_factors[:to_show], successes[:to_show])\n",
    "plt.plot(noise_factors[:to_show], errors[:to_show])\n",
    "plt.plot(noise_factors[:to_show], fit(noise_factors[:to_show]))\n",
    "plt.show()"
   ]
  },
  {
   "cell_type": "code",
   "execution_count": 23,
   "metadata": {},
   "outputs": [],
   "source": [
    "fit.convert()\n",
    "std = np.std(errors - fit(noise_factors))"
   ]
  },
  {
   "cell_type": "code",
   "execution_count": 30,
   "metadata": {},
   "outputs": [],
   "source": [
    "noise_factors.tofile(\"local/noise_factors.csv\", sep=\",\")\n",
    "successes = np.array(successes)\n",
    "successes.tofile(\"local/successes.csv\", sep=\",\")\n",
    "errors = np.array(errors)\n",
    "errors.tofile(\"local/errors.csv\", sep=\",\")\n"
   ]
  }
 ],
 "metadata": {
  "interpreter": {
   "hash": "0a326387514bff8cff46362682c6b5d6706650c507f9d6555fe15603d3afa14e"
  },
  "kernelspec": {
   "display_name": "Python 3.8.10 ('vwsn': venv)",
   "language": "python",
   "name": "python3"
  },
  "language_info": {
   "codemirror_mode": {
    "name": "ipython",
    "version": 3
   },
   "file_extension": ".py",
   "mimetype": "text/x-python",
   "name": "python",
   "nbconvert_exporter": "python",
   "pygments_lexer": "ipython3",
   "version": "3.8.10"
  },
  "orig_nbformat": 4
 },
 "nbformat": 4,
 "nbformat_minor": 2
}
