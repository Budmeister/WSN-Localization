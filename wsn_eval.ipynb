{
 "cells": [
  {
   "cell_type": "code",
   "execution_count": 1,
   "metadata": {},
   "outputs": [],
   "source": [
    "from WSN import *\n",
    "import matplotlib.pyplot as plt\n",
    "from tqdm import tqdm\n",
    "from wsn_eval import *\n"
   ]
  },
  {
   "cell_type": "code",
   "execution_count": 2,
   "metadata": {},
   "outputs": [],
   "source": [
    "def plot_edges(wsn : WSN):\n",
    "    edges = []\n",
    "    nodes = list(wsn.anchor_nodes)\n",
    "    V = len(nodes)\n",
    "    for ii, i in enumerate(nodes[:-1]):\n",
    "        for j in nodes[ii+1:]:\n",
    "            ri = wsn.nodes[i]\n",
    "            rj = wsn.nodes[j]\n",
    "            d = dist(ri, rj)\n",
    "            edge = (d, i, j)\n",
    "            heappush(edges, edge)\n",
    "    \n",
    "    for edge in edges:\n",
    "        n1 = wsn.nodes[edge[1]]\n",
    "        n2 = wsn.nodes[edge[2]]\n",
    "        plt.plot([n1[0], n2[0]], [n1[1], n2[1]], c=\"orange\")\n",
    "    plt.scatter(wsn.nodes[:, 0], wsn.nodes[:, 1], c=\"blue\")\n",
    "    plt.xlim((0, 100))\n",
    "    plt.ylim((0, 100))\n",
    "    plt.show()\n"
   ]
  },
  {
   "cell_type": "code",
   "execution_count": 2,
   "metadata": {},
   "outputs": [
    {
     "name": "stdout",
     "output_type": "stream",
     "text": [
      "7\n"
     ]
    }
   ],
   "source": [
    "wsn = WSN(100, 7, std=0, D=142)\n",
    "wsn.reset_nodes()\n",
    "wsn.reset_anchors({1,2,3,4,5,6})\n",
    "MST = wsn.find_MST()\n"
   ]
  },
  {
   "cell_type": "code",
   "execution_count": 2,
   "metadata": {},
   "outputs": [],
   "source": [
    "period = 10 / 100\n",
    "def modify_results(results):\n",
    "    new_results = [0] * len(results)\n",
    "    for i, result in enumerate(results):\n",
    "        # if result[1] >= 0:\n",
    "            result0 = result[0]\n",
    "            result1 = result[1] % period\n",
    "            if result[1] < 0 or result1 < period / 2:\n",
    "                result1 -= period\n",
    "            result1 += np.random.normal(scale=0.5)\n",
    "            new_results[i] = result0, result1\n",
    "        # else:\n",
    "        #     new_results[i] = result[0], result[1] % period - period\n",
    "    return new_results\n"
   ]
  },
  {
   "cell_type": "code",
   "execution_count": 3,
   "metadata": {},
   "outputs": [],
   "source": [
    "def localize_mTDOA_periodic(wsn: WSN):\n",
    "    r0 = None\n",
    "    for i in range(wsn.N):\n",
    "        if i not in wsn.anchor_nodes:\n",
    "            r0 = wsn.nodes[i]\n",
    "            break\n",
    "    if r0 is None:\n",
    "        raise ValueError(\"wsn has no target node\")\n",
    "    results = wsn.transmit(0, r0)\n",
    "    results = modify_results(results)\n",
    "    H, b = wsn.get_mTDOA_H_and_b(results)\n",
    "    est_pos = np.linalg.pinv(H) @ b\n",
    "    return est_pos\n",
    "\n",
    "def localize_mTDOA_periodic_with_tree(wsn: WSN):\n",
    "    r0 = None\n",
    "    for i in range(wsn.N):\n",
    "        if i not in wsn.anchor_nodes:\n",
    "            r0 = wsn.nodes[i]\n",
    "            break\n",
    "    if r0 is None:\n",
    "        raise ValueError(\"wsn has no target node\")\n",
    "    \n",
    "    MST = wsn.find_MST()\n",
    "    results = wsn.transmit(0, r0)\n",
    "    results = modify_results(results)\n",
    "    H, b = wsn.get_mTDOA_H_and_b_with_tree(results)\n",
    "    est_pos = np.linalg.pinv(H) @ b\n",
    "    return est_pos\n",
    "\n",
    "def localize_mTDOA(wsn: WSN):\n",
    "    r0 = None\n",
    "    for i in range(wsn.N):\n",
    "        if i not in wsn.anchor_nodes:\n",
    "            r0 = wsn.nodes[i]\n",
    "            break\n",
    "    if r0 is None:\n",
    "        raise ValueError(\"wsn has no target node\")\n",
    "    results = wsn.transmit(0, r0)\n",
    "    H, b = wsn.get_mTDOA_H_and_b(results)\n",
    "    est_pos = np.linalg.pinv(H) @ b\n",
    "    return est_pos\n"
   ]
  },
  {
   "cell_type": "code",
   "execution_count": null,
   "metadata": {},
   "outputs": [],
   "source": [
    "# Localize with pairs\n",
    "cluster_locations = np.array([\n",
    "    [46, 15],\n",
    "    [82, 45],\n",
    "    [72, 84],\n",
    "    # [36, 73],\n",
    "    # [17, 48]\n",
    "])\n",
    "np.random.seed(1234)\n",
    "num_clusters = len(cluster_locations)\n",
    "cluster_size = 3\n",
    "cluster_scale = 10\n",
    "N = num_clusters * cluster_size + 1\n",
    "nodes = np.empty((N, 2))\n",
    "nodes[0] = [50, 50]\n",
    "for c, cluster in enumerate(cluster_locations):\n",
    "    nodes[c * cluster_size + 1:(c+1) * cluster_size + 1] = np.random.normal(loc=cluster, scale=cluster_scale, size=(cluster_size, 2))\n",
    "clusters = np.array([nodes[c * cluster_size + 1: (c+1) * cluster_size + 1] for c in range(num_clusters)])\n",
    "r0 = nodes[0]\n",
    "# wsn.nodes = np.array([\n",
    "#     [50, 50],\n",
    "#     [46, 15],\n",
    "#     [49, 17],\n",
    "#     [82, 45],\n",
    "#     [79, 49],\n",
    "#     [72, 84],\n",
    "#     [74, 87],\n",
    "#     [36, 73],\n",
    "#     [32, 70],\n",
    "#     [17, 48],\n",
    "#     [14, 48]\n",
    "# ])\n",
    "# N = 11\n",
    "wsn.nodes = nodes\n",
    "wsn.N = N\n",
    "wsn.reset_anchors(set(range(1, N)))\n",
    "def localize_by_clusters(wsn: WSN):\n",
    "    H = np.zeros((num_clusters * (cluster_size-1), num_clusters + 3))\n",
    "    b = np.zeros(num_clusters * (cluster_size-1))\n",
    "    for c in range(num_clusters):             \n",
    "        rc = clusters[c][0]\n",
    "        for n in range(1, cluster_size):\n",
    "                rn = clusters[c][n]\n",
    "                # Generate time\n",
    "                tn = (dist(rn, r0) - dist(rc, r0)) / wsn.c  \n",
    "                Hn = np.zeros(num_clusters + 3)\n",
    "                Hn[:2] = 2 * (rn - rc)\n",
    "                Hn[2] = tn ** 2\n",
    "                Hn[c + 3] = -2 * tn\n",
    "                H[c * (cluster_size - 1) + n - 1] = Hn\n",
    "                b[c * (cluster_size - 1) + n - 1] = rn @ rn - rc @ rc\n",
    "    # return H, b\n",
    "    est_pos = np.linalg.pinv(H) @ b\n",
    "    return est_pos\n",
    "est_pos = localize_by_clusters(wsn)\n",
    "print(est_pos)\n",
    "print(wsn.nodes[0])\n",
    "# H, b = localize_by_clusters(wsn)\n"
   ]
  },
  {
   "cell_type": "code",
   "execution_count": 6,
   "metadata": {},
   "outputs": [],
   "source": [
    "def localize_mTDOA_quotient_estimator(wsn: WSN, period, epochs=5):\n",
    "    r0 = None\n",
    "    for i in range(wsn.N):\n",
    "        if i not in wsn.anchor_nodes:\n",
    "            r0 = wsn.nodes[i]\n",
    "            break\n",
    "    if r0 is None:\n",
    "        raise ValueError(\"wsn has no target node\")\n",
    "    results = wsn.transmit(0, r0)\n",
    "    mresults = modify_results(results)\n",
    "    for e in range(epochs):\n",
    "        H, b = wsn.get_mTDOA_H_and_b(mresults)\n",
    "        est_pos = np.linalg.pinv(H) @ b\n",
    "        speed = np.sqrt(est_pos[4])\n",
    "        new_results = [0] * len(mresults)\n",
    "        for i, result in enumerate(mresults):\n",
    "            result0, result1 = result\n",
    "            est_quot = dist(result0, est_pos[:2]) / speed\n",
    "            \n",
    "\n"
   ]
  },
  {
   "cell_type": "code",
   "execution_count": 6,
   "metadata": {},
   "outputs": [],
   "source": [
    "N = 7\n",
    "wsn = WSN(100, N, verbose=False)\n",
    "wsn.std = 0\n",
    "wsn.D = 142\n"
   ]
  },
  {
   "cell_type": "code",
   "execution_count": 7,
   "metadata": {},
   "outputs": [
    {
     "name": "stderr",
     "output_type": "stream",
     "text": [
      " 69%|██████▊   | 687/1000 [02:46<01:20,  3.90it/s]d:\\Repositories\\WSN-Localization\\mutual_information.py:104: RuntimeWarning: divide by zero encountered in log\n",
      "  mi = -0.5 * np.log(np.linalg.det(cor))\n",
      " 80%|████████  | 803/1000 [03:12<00:45,  4.36it/s]d:\\Repositories\\WSN-Localization\\mutual_information.py:104: RuntimeWarning: invalid value encountered in log\n",
      "  mi = -0.5 * np.log(np.linalg.det(cor))\n",
      "100%|██████████| 1000/1000 [03:57<00:00,  4.22it/s]\n",
      "100%|██████████| 1000/1000 [04:42<00:00,  3.53it/s]\n",
      "100%|██████████| 1000/1000 [05:39<00:00,  2.94it/s]\n",
      "100%|██████████| 1000/1000 [06:42<00:00,  2.48it/s]\n",
      "100%|██████████| 1000/1000 [07:51<00:00,  2.12it/s]\n",
      "100%|██████████| 1000/1000 [08:47<00:00,  1.90it/s]\n",
      "100%|██████████| 1000/1000 [09:44<00:00,  1.71it/s]\n",
      "  4%|▍         | 39/1000 [00:23<09:30,  1.68it/s]\n"
     ]
    },
    {
     "name": "stdout",
     "output_type": "stream",
     "text": [
      "Unexpected exception formatting exception. Falling back to standard exception\n"
     ]
    },
    {
     "name": "stderr",
     "output_type": "stream",
     "text": [
      "Traceback (most recent call last):\n",
      "  File \"d:\\Repositories\\WSN-Localization\\vwsn\\lib\\site-packages\\IPython\\core\\interactiveshell.py\", line 3398, in run_code\n",
      "    exec(code_obj, self.user_global_ns, self.user_ns)\n",
      "  File \"C:\\Users\\brian\\AppData\\Local\\Temp\\ipykernel_13488\\2302491801.py\", line 18, in <cell line: 5>\n",
      "    est_pos = wsn.localize_continuous(method=\"mTDOA\", signal_type=\"fn\").flatten()\n",
      "  File \"d:\\Repositories\\WSN-Localization\\WSN.py\", line 410, in localize_continuous\n",
      "    def localize_continuous(self, method=\"mTDOA\", signal_type=\"osc\", epochs=1, show_error=\"Error\"):\n",
      "  File \"d:\\Repositories\\WSN-Localization\\WSN.py\", line 402, in localize_fn_continuous\n",
      "  File \"d:\\Repositories\\WSN-Localization\\WSN.py\", line 288, in get_mTDOA_H_and_b\n",
      "    if H.ndim == 1:\n",
      "  File \"<__array_function__ internals>\", line 180, in concatenate\n",
      "numpy.AxisError: axis 1 is out of bounds for array of dimension 1\n",
      "\n",
      "During handling of the above exception, another exception occurred:\n",
      "\n",
      "Traceback (most recent call last):\n",
      "  File \"d:\\Repositories\\WSN-Localization\\vwsn\\lib\\site-packages\\IPython\\core\\interactiveshell.py\", line 1993, in showtraceback\n",
      "    stb = self.InteractiveTB.structured_traceback(\n",
      "  File \"d:\\Repositories\\WSN-Localization\\vwsn\\lib\\site-packages\\IPython\\core\\ultratb.py\", line 1118, in structured_traceback\n",
      "    return FormattedTB.structured_traceback(\n",
      "  File \"d:\\Repositories\\WSN-Localization\\vwsn\\lib\\site-packages\\IPython\\core\\ultratb.py\", line 1012, in structured_traceback\n",
      "    return VerboseTB.structured_traceback(\n",
      "  File \"d:\\Repositories\\WSN-Localization\\vwsn\\lib\\site-packages\\IPython\\core\\ultratb.py\", line 865, in structured_traceback\n",
      "    formatted_exception = self.format_exception_as_a_whole(etype, evalue, etb, number_of_lines_of_context,\n",
      "  File \"d:\\Repositories\\WSN-Localization\\vwsn\\lib\\site-packages\\IPython\\core\\ultratb.py\", line 818, in format_exception_as_a_whole\n",
      "    frames.append(self.format_record(r))\n",
      "  File \"d:\\Repositories\\WSN-Localization\\vwsn\\lib\\site-packages\\IPython\\core\\ultratb.py\", line 736, in format_record\n",
      "    result += ''.join(_format_traceback_lines(frame_info.lines, Colors, self.has_colors, lvals))\n",
      "  File \"d:\\Repositories\\WSN-Localization\\vwsn\\lib\\site-packages\\stack_data\\utils.py\", line 145, in cached_property_wrapper\n",
      "    value = obj.__dict__[self.func.__name__] = self.func(obj)\n",
      "  File \"d:\\Repositories\\WSN-Localization\\vwsn\\lib\\site-packages\\stack_data\\core.py\", line 698, in lines\n",
      "    pieces = self.included_pieces\n",
      "  File \"d:\\Repositories\\WSN-Localization\\vwsn\\lib\\site-packages\\stack_data\\utils.py\", line 145, in cached_property_wrapper\n",
      "    value = obj.__dict__[self.func.__name__] = self.func(obj)\n",
      "  File \"d:\\Repositories\\WSN-Localization\\vwsn\\lib\\site-packages\\stack_data\\core.py\", line 649, in included_pieces\n",
      "    pos = scope_pieces.index(self.executing_piece)\n",
      "  File \"d:\\Repositories\\WSN-Localization\\vwsn\\lib\\site-packages\\stack_data\\utils.py\", line 145, in cached_property_wrapper\n",
      "    value = obj.__dict__[self.func.__name__] = self.func(obj)\n",
      "  File \"d:\\Repositories\\WSN-Localization\\vwsn\\lib\\site-packages\\stack_data\\core.py\", line 628, in executing_piece\n",
      "    return only(\n",
      "  File \"d:\\Repositories\\WSN-Localization\\vwsn\\lib\\site-packages\\executing\\executing.py\", line 164, in only\n",
      "    raise NotOneValueFound('Expected one value, found 0')\n",
      "executing.executing.NotOneValueFound: Expected one value, found 0\n"
     ]
    }
   ],
   "source": [
    "Nrange = range(6, 20)\n",
    "iterations = 1000\n",
    "num_err_types = 5\n",
    "N_errs = np.zeros((len(Nrange), num_err_types))\n",
    "for i, N in enumerate(Nrange):\n",
    "    avg_loc_err = 0\n",
    "    avg_center_err = 0\n",
    "    avg_est_center_err = 0\n",
    "    avg_time_err = 0\n",
    "    avg_speed_err = 0\n",
    "    avg_errs = np.zeros(num_err_types)\n",
    "    for it in tqdm(range(iterations)):\n",
    "        wsn.N = N\n",
    "        wsn.reset_nodes()\n",
    "        wsn.reset_anchors(set(range(1, N)))\n",
    "        # est_pos = localize_mTDOA_periodic(wsn).flatten()\n",
    "        # est_pos = localize_mTDOA_periodic(wsn).flatten()\n",
    "        est_pos = wsn.localize_continuous(method=\"mTDOA\", signal_type=\"fn\").flatten()\n",
    "        est_pos = np.concatenate((est_pos, np.zeros(2)))\n",
    "        est_pos[3] = max(est_pos[3], 0)\n",
    "        r0 = wsn.nodes[0]\n",
    "        x = np.array([*r0, wsn.t0, wsn.c ** 2])\n",
    "        avg = np.mean(wsn.nodes[1:], axis=0)\n",
    "        loc_err = dist(est_pos[:2], x[:2])\n",
    "        center_err = dist(avg, x[:2])\n",
    "        est_center_err = dist(est_pos[:2], avg)\n",
    "        time_err = abs(est_pos[2] - x[2])\n",
    "        speed_err = abs(np.sqrt(est_pos[3]) - np.sqrt(x[3]))\n",
    "\n",
    "        avg_errs += np.array([loc_err, center_err, est_center_err, time_err, speed_err])\n",
    "    avg_errs /= iterations\n",
    "    N_errs[i] = avg_errs\n",
    "\n",
    "\n"
   ]
  },
  {
   "cell_type": "code",
   "execution_count": 9,
   "metadata": {},
   "outputs": [],
   "source": [
    "np.save(\"N_errs.npy\", N_errs)"
   ]
  },
  {
   "cell_type": "code",
   "execution_count": 8,
   "metadata": {},
   "outputs": [
    {
     "data": {
      "image/png": "[encoded data removed]",
      "text/plain": [
       "<Figure size 720x360 with 1 Axes>"
      ]
     },
     "metadata": {
      "needs_background": "light"
     },
     "output_type": "display_data"
    }
   ],
   "source": [
    "# Plotting\n",
    "barWidth = 0.2\n",
    "fig = plt.subplots(figsize=(10, 5))\n",
    "colors = (\"#eb4034\", \"#dea71b\", \"#b0f542\", \"#0d8c4a\", \"#0d338c\")\n",
    "labels = (\"Position Error (mean Euclidean, m)\",  \"Center Error (mean Euclidean, m)\", \"Dist Betw. COM and Est Pos (mean euclidean, m)\",\"Time Error (mean, s)\", \"Speed Error (mean, m/s)\")\n",
    "\n",
    "# for i in range(0, num_err_types):\n",
    "b = 0\n",
    "for i in [0,1,2]:\n",
    "    br = list(Nrange)\n",
    "    # br = [x - 1 for x in br]\n",
    "    br = [x - 1 + barWidth * b for x in br]\n",
    "    plt.bar(br[1:], N_errs[1:, i], color=colors[i], width=barWidth, label=labels[i])\n",
    "    b += 1\n",
    "\n",
    "plt.legend()\n",
    "# plt.ylabel(labels[i])\n",
    "plt.xlabel(\"N\")\n",
    "# plt.legend()\n",
    "plt.show()"
   ]
  },
  {
   "cell_type": "code",
   "execution_count": 117,
   "metadata": {},
   "outputs": [],
   "source": [
    "\n",
    "N = 7\n",
    "wsn.N = N\n",
    "wsn.reset_nodes()\n",
    "wsn.reset_anchors(set(range(1, N)))\n",
    "est_pos = localize_mTDOA(wsn).flatten()\n"
   ]
  },
  {
   "cell_type": "code",
   "execution_count": 118,
   "metadata": {},
   "outputs": [
    {
     "data": {
      "image/png": "[encoded data removed]",
      "text/plain": [
       "<Figure size 432x288 with 1 Axes>"
      ]
     },
     "metadata": {
      "needs_background": "light"
     },
     "output_type": "display_data"
    }
   ],
   "source": [
    "plt.scatter(wsn.nodes[:, 0], wsn.nodes[:, 1], c=[\"blue\" if i in wsn.anchor_nodes else \"red\" for i in range(wsn.N)], label=\"anchors\")\n",
    "plt.scatter(*est_pos[:2], c=\"orange\", label=\"est_pos\")\n",
    "avg = np.mean(wsn.nodes[1:], axis=0)\n",
    "plt.scatter(*avg, c=\"yellow\", label=\"centerpoint\")\n",
    "plt.xlim((-20, 120))\n",
    "plt.ylim((-20, 120))\n",
    "plt.show()\n"
   ]
  }
 ],
 "metadata": {
  "interpreter": {
   "hash": "0a326387514bff8cff46362682c6b5d6706650c507f9d6555fe15603d3afa14e"
  },
  "kernelspec": {
   "display_name": "Python 3.8.10 ('vwsn': venv)",
   "language": "python",
   "name": "python3"
  },
  "language_info": {
   "codemirror_mode": {
    "name": "ipython",
    "version": 3
   },
   "file_extension": ".py",
   "mimetype": "text/x-python",
   "name": "python",
   "nbconvert_exporter": "python",
   "pygments_lexer": "ipython3",
   "version": "3.8.10"
  },
  "orig_nbformat": 4
 },
 "nbformat": 4,
 "nbformat_minor": 2
}
