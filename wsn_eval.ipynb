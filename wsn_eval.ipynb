{
 "cells": [
  {
   "cell_type": "code",
   "execution_count": null,
   "metadata": {},
   "outputs": [],
   "source": [
    "from WSN import *\n",
    "import matplotlib.pyplot as plt\n",
    "from tqdm import tqdm\n",
    "from wsn_eval import *\n"
   ]
  },
  {
   "cell_type": "code",
   "execution_count": null,
   "metadata": {},
   "outputs": [],
   "source": [
    "# plot_edges\n",
    "def plot_edges(wsn : WSN):\n",
    "    edges = []\n",
    "    nodes = list(wsn.anchor_nodes)\n",
    "    V = len(nodes)\n",
    "    for ii, i in enumerate(nodes[:-1]):\n",
    "        for j in nodes[ii+1:]:\n",
    "            ri = wsn.nodes[i]\n",
    "            rj = wsn.nodes[j]\n",
    "            d = dist(ri, rj)\n",
    "            edge = (d, i, j)\n",
    "            heappush(edges, edge)\n",
    "    \n",
    "    for edge in edges:\n",
    "        n1 = wsn.nodes[edge[1]]\n",
    "        n2 = wsn.nodes[edge[2]]\n",
    "        plt.plot([n1[0], n2[0]], [n1[1], n2[1]], c=\"orange\")\n",
    "    plt.scatter(wsn.nodes[:, 0], wsn.nodes[:, 1], c=\"blue\")\n",
    "    plt.xlim((0, 100))\n",
    "    plt.ylim((0, 100))\n",
    "    plt.show()\n"
   ]
  },
  {
   "cell_type": "code",
   "execution_count": null,
   "metadata": {},
   "outputs": [],
   "source": [
    "# Initialize WSN\n",
    "wsn = WSN(100, 7, std=0, D=142)\n",
    "wsn.reset_nodes()\n",
    "wsn.reset_anchors({1,2,3,4,5,6})\n",
    "MST = wsn.find_MST()\n"
   ]
  },
  {
   "cell_type": "code",
   "execution_count": null,
   "metadata": {},
   "outputs": [],
   "source": [
    "# modify_results\n",
    "period = 10 / 100\n",
    "def modify_results(results):\n",
    "    new_results = [0] * len(results)\n",
    "    for i, result in enumerate(results):\n",
    "        # if result[1] >= 0:\n",
    "            result0 = result[0]\n",
    "            result1 = result[1] % period\n",
    "            if result[1] < 0 or result1 < period / 2:\n",
    "                result1 -= period\n",
    "            result1 += np.random.normal(scale=0.5)\n",
    "            new_results[i] = result0, result1\n",
    "        # else:\n",
    "        #     new_results[i] = result[0], result[1] % period - period\n",
    "    return new_results\n"
   ]
  },
  {
   "cell_type": "code",
   "execution_count": null,
   "metadata": {},
   "outputs": [],
   "source": [
    "# lots of localize functions\n",
    "def localize_mTDOA_periodic(wsn: WSN):\n",
    "    r0 = None\n",
    "    for i in range(wsn.N):\n",
    "        if i not in wsn.anchor_nodes:\n",
    "            r0 = wsn.nodes[i]\n",
    "            break\n",
    "    if r0 is None:\n",
    "        raise ValueError(\"wsn has no target node\")\n",
    "    results = wsn.transmit(0, r0)\n",
    "    results = modify_results(results)\n",
    "    H, b = wsn.get_mTDOA_H_and_b(results)\n",
    "    est_pos = np.linalg.pinv(H) @ b\n",
    "    return est_pos\n",
    "\n",
    "def localize_mTDOA_periodic_with_tree(wsn: WSN):\n",
    "    r0 = None\n",
    "    for i in range(wsn.N):\n",
    "        if i not in wsn.anchor_nodes:\n",
    "            r0 = wsn.nodes[i]\n",
    "            break\n",
    "    if r0 is None:\n",
    "        raise ValueError(\"wsn has no target node\")\n",
    "    \n",
    "    MST = wsn.find_MST()\n",
    "    results = wsn.transmit(0, r0)\n",
    "    results = modify_results(results)\n",
    "    H, b = wsn.get_mTDOA_H_and_b_with_tree(results)\n",
    "    est_pos = np.linalg.pinv(H) @ b\n",
    "    return est_pos\n",
    "\n",
    "def localize_mTDOA(wsn: WSN):\n",
    "    r0 = None\n",
    "    for i in range(wsn.N):\n",
    "        if i not in wsn.anchor_nodes:\n",
    "            r0 = wsn.nodes[i]\n",
    "            break\n",
    "    if r0 is None:\n",
    "        raise ValueError(\"wsn has no target node\")\n",
    "    results = wsn.transmit(0, r0)\n",
    "    H, b = wsn.get_mTDOA_H_and_b(results)\n",
    "    est_pos = np.linalg.pinv(H) @ b\n",
    "    return est_pos\n"
   ]
  },
  {
   "cell_type": "code",
   "execution_count": null,
   "metadata": {},
   "outputs": [],
   "source": [
    "# Localize with pairs\n",
    "cluster_locations = np.array([\n",
    "    [46, 15],\n",
    "    [82, 45],\n",
    "    [72, 84],\n",
    "    # [36, 73],\n",
    "    # [17, 48]\n",
    "])\n",
    "np.random.seed(1234)\n",
    "num_clusters = len(cluster_locations)\n",
    "cluster_size = 3\n",
    "cluster_scale = 10\n",
    "N = num_clusters * cluster_size + 1\n",
    "nodes = np.empty((N, 2))\n",
    "nodes[0] = [50, 50]\n",
    "for c, cluster in enumerate(cluster_locations):\n",
    "    nodes[c * cluster_size + 1:(c+1) * cluster_size + 1] = np.random.normal(loc=cluster, scale=cluster_scale, size=(cluster_size, 2))\n",
    "clusters = np.array([nodes[c * cluster_size + 1: (c+1) * cluster_size + 1] for c in range(num_clusters)])\n",
    "r0 = nodes[0]\n",
    "# wsn.nodes = np.array([\n",
    "#     [50, 50],\n",
    "#     [46, 15],\n",
    "#     [49, 17],\n",
    "#     [82, 45],\n",
    "#     [79, 49],\n",
    "#     [72, 84],\n",
    "#     [74, 87],\n",
    "#     [36, 73],\n",
    "#     [32, 70],\n",
    "#     [17, 48],\n",
    "#     [14, 48]\n",
    "# ])\n",
    "# N = 11\n",
    "wsn.nodes = nodes\n",
    "wsn.N = N\n",
    "wsn.reset_anchors(set(range(1, N)))\n",
    "def localize_by_clusters(wsn: WSN):\n",
    "    H = np.zeros((num_clusters * (cluster_size-1), num_clusters + 3))\n",
    "    b = np.zeros(num_clusters * (cluster_size-1))\n",
    "    for c in range(num_clusters):             \n",
    "        rc = clusters[c][0]\n",
    "        for n in range(1, cluster_size):\n",
    "                rn = clusters[c][n]\n",
    "                # Generate time\n",
    "                tn = (dist(rn, r0) - dist(rc, r0)) / wsn.c  \n",
    "                Hn = np.zeros(num_clusters + 3)\n",
    "                Hn[:2] = 2 * (rn - rc)\n",
    "                Hn[2] = tn ** 2\n",
    "                Hn[c + 3] = -2 * tn\n",
    "                H[c * (cluster_size - 1) + n - 1] = Hn\n",
    "                b[c * (cluster_size - 1) + n - 1] = rn @ rn - rc @ rc\n",
    "    # return H, b\n",
    "    est_pos = np.linalg.pinv(H) @ b\n",
    "    return est_pos\n",
    "est_pos = localize_by_clusters(wsn)\n",
    "print(est_pos)\n",
    "print(wsn.nodes[0])\n",
    "# H, b = localize_by_clusters(wsn)\n"
   ]
  },
  {
   "cell_type": "code",
   "execution_count": null,
   "metadata": {},
   "outputs": [],
   "source": [
    "def localize_mTDOA_quotient_estimator(wsn: WSN, period, epochs=5):\n",
    "    r0 = None\n",
    "    for i in range(wsn.N):\n",
    "        if i not in wsn.anchor_nodes:\n",
    "            r0 = wsn.nodes[i]\n",
    "            break\n",
    "    if r0 is None:\n",
    "        raise ValueError(\"wsn has no target node\")\n",
    "    results = wsn.transmit(0, r0)\n",
    "    mresults = modify_results(results)\n",
    "    for e in range(epochs):\n",
    "        H, b = wsn.get_mTDOA_H_and_b(mresults)\n",
    "        est_pos = np.linalg.pinv(H) @ b\n",
    "        speed = np.sqrt(est_pos[4])\n",
    "        new_results = [0] * len(mresults)\n",
    "        for i, result in enumerate(mresults):\n",
    "            result0, result1 = result\n",
    "            est_quot = dist(result0, est_pos[:2]) / speed\n",
    "            \n",
    "\n"
   ]
  },
  {
   "cell_type": "code",
   "execution_count": null,
   "metadata": {},
   "outputs": [],
   "source": [
    "# Initialize WSN\n",
    "N = 7\n",
    "wsn = WSN(100, N, verbose=False)\n",
    "wsn.std = 0\n",
    "wsn.D = 142\n"
   ]
  },
  {
   "cell_type": "code",
   "execution_count": null,
   "metadata": {},
   "outputs": [],
   "source": [
    "# Massive test across Nrange\n",
    "Nrange = range(6, 20)\n",
    "iterations = 1000\n",
    "num_err_types = 5\n",
    "N_errs = np.zeros((len(Nrange), num_err_types))\n",
    "for i, N in enumerate(Nrange):\n",
    "    avg_loc_err = 0\n",
    "    avg_center_err = 0\n",
    "    avg_est_center_err = 0\n",
    "    avg_time_err = 0\n",
    "    avg_speed_err = 0\n",
    "    avg_errs = np.zeros(num_err_types)\n",
    "    for it in tqdm(range(iterations)):\n",
    "        wsn.N = N\n",
    "        wsn.reset_nodes()\n",
    "        wsn.reset_anchors(set(range(1, N)))\n",
    "        # est_pos = localize_mTDOA_periodic(wsn).flatten()\n",
    "        # est_pos = localize_mTDOA_periodic(wsn).flatten()\n",
    "        est_pos = wsn.localize_continuous(method=\"mTDOA\", signal_type=\"fn\").flatten()\n",
    "        est_pos = np.concatenate((est_pos, np.zeros(2)))\n",
    "        est_pos[3] = max(est_pos[3], 0)\n",
    "        r0 = wsn.nodes[0]\n",
    "        x = np.array([*r0, wsn.t0, wsn.c ** 2])\n",
    "        avg = np.mean(wsn.nodes[1:], axis=0)\n",
    "        loc_err = dist(est_pos[:2], x[:2])\n",
    "        center_err = dist(avg, x[:2])\n",
    "        est_center_err = dist(est_pos[:2], avg)\n",
    "        time_err = abs(est_pos[2] - x[2])\n",
    "        speed_err = abs(np.sqrt(est_pos[3]) - np.sqrt(x[3]))\n",
    "\n",
    "        avg_errs += np.array([loc_err, center_err, est_center_err, time_err, speed_err])\n",
    "    avg_errs /= iterations\n",
    "    N_errs[i] = avg_errs\n",
    "\n",
    "\n"
   ]
  },
  {
   "cell_type": "markdown",
   "metadata": {},
   "source": [
    "Results saved in N_errs.npy"
   ]
  },
  {
   "cell_type": "code",
   "execution_count": null,
   "metadata": {},
   "outputs": [],
   "source": [
    "# Plotting\n",
    "barWidth = 0.2\n",
    "fig = plt.subplots(figsize=(10, 5))\n",
    "colors = (\"#eb4034\", \"#dea71b\", \"#b0f542\", \"#0d8c4a\", \"#0d338c\")\n",
    "labels = (\"Position Error (mean Euclidean, m)\",  \"Center Error (mean Euclidean, m)\", \"Dist Betw. COM and Est Pos (mean euclidean, m)\",\"Time Error (mean, s)\", \"Speed Error (mean, m/s)\")\n",
    "\n",
    "# for i in range(0, num_err_types):\n",
    "b = 0\n",
    "for i in [0,1,2]:\n",
    "    br = list(Nrange)\n",
    "    # br = [x - 1 for x in br]\n",
    "    br = [x - 1 + barWidth * b for x in br]\n",
    "    plt.bar(br[1:], N_errs[1:, i], color=colors[i], width=barWidth, label=labels[i])\n",
    "    b += 1\n",
    "\n",
    "plt.legend()\n",
    "# plt.ylabel(labels[i])\n",
    "plt.xlabel(\"N\")\n",
    "# plt.legend()\n",
    "plt.show()"
   ]
  },
  {
   "cell_type": "markdown",
   "metadata": {},
   "source": [
    "Test single `localize_mTDOA`"
   ]
  },
  {
   "cell_type": "code",
   "execution_count": null,
   "metadata": {},
   "outputs": [],
   "source": [
    "# Initialize WSN and localize_mTDOA\n",
    "N = 7\n",
    "wsn.N = N\n",
    "wsn.reset_nodes()\n",
    "wsn.reset_anchors(set(range(1, N)))\n",
    "est_pos = localize_mTDOA(wsn).flatten()\n"
   ]
  },
  {
   "cell_type": "code",
   "execution_count": null,
   "metadata": {},
   "outputs": [],
   "source": [
    "# Plotting\n",
    "plt.scatter(wsn.nodes[:, 0], wsn.nodes[:, 1], c=[\"blue\" if i in wsn.anchor_nodes else \"red\" for i in range(wsn.N)], label=\"anchors\")\n",
    "plt.scatter(*est_pos[:2], c=\"orange\", label=\"est_pos\")\n",
    "avg = np.mean(wsn.nodes[1:], axis=0)\n",
    "plt.scatter(*avg, c=\"yellow\", label=\"centerpoint\")\n",
    "plt.xlim((-20, 120))\n",
    "plt.ylim((-20, 120))\n",
    "plt.show()\n"
   ]
  },
  {
   "cell_type": "markdown",
   "metadata": {},
   "source": [
    "Investigate why cTDOA isn't working. Clusters too close together?\n",
    "With circular stimulus (single wave), it works as long as the entire waveform is considered."
   ]
  },
  {
   "cell_type": "code",
   "execution_count": 1,
   "metadata": {},
   "outputs": [],
   "source": [
    "from mutual_information import *\n",
    "import mutual_information as mtin\n",
    "from wsn_eval import *\n",
    "from WSN import *\n",
    "import multiprocessing as mp"
   ]
  },
  {
   "cell_type": "code",
   "execution_count": 2,
   "metadata": {},
   "outputs": [],
   "source": [
    "mtin.solve_default_fn_equ()"
   ]
  },
  {
   "cell_type": "code",
   "execution_count": null,
   "metadata": {},
   "outputs": [],
   "source": [
    "num_clusters = 4\n",
    "cluster_size = 4\n",
    "N = num_clusters * cluster_size\n",
    "wsn = WSN(100, N, std=0, D=142, num_clusters=num_clusters, cluster_size=cluster_size, verbose=False)\n",
    "np.random.seed(1234)\n",
    "wsn.reset_clusters()\n",
    "wsn.reset_anchors(set(range(N)))\n",
    "root = np.array([55, 55])\n"
   ]
  },
  {
   "cell_type": "markdown",
   "metadata": {},
   "source": [
    "Test cTDOA with single wave. <br>\n",
    "Test details:\n",
    "<ul>\n",
    "    <li>500 iterations per </li>\n",
    "    <li>num_clusters: 3-10 (multiprocessing) </li>\n",
    "    <li>cluster_size: 3-4 </li>\n",
    "    <li>cluster_spacing: 3-10 </li>\n",
    "</ul>\n",
    "\n",
    "Errors (num_errs=2):\n",
    "<ul>\n",
    "    <li>avg_distance_err (dist between est and true--[55, 55]--normalized by size of grid--[100]) </li>\n",
    "    <li>avg_speed_err (dist between est speed and true speed--[1.6424885622140555]--normalized by true speed) </li>\n",
    "</ul>\n",
    "\n",
    "Each process will produce a numpy array of size `(len(cluster_size_range), len(cluster_spacing_range), num_err_types)`. Those arrays will be put into a larger array by the parent process of size `(len(num_clusters_range), len(cluster_size_range), len(cluster_spacing_range), num_err_types)`."
   ]
  },
  {
   "cell_type": "code",
   "execution_count": 5,
   "metadata": {},
   "outputs": [],
   "source": [
    "iterations = 500\n",
    "num_clusters_range = range(3, 11)\n",
    "cluster_size_range = range(3, 5)\n",
    "cluster_spacing_range = range(3, 11)\n",
    "num_err_types = 2\n",
    "\n",
    "true_center = np.array([55, 55])\n",
    "true_speed = 1.6424885622140555\n",
    "\n",
    "errs = np.load(\"./cTDOA_errs.npy\")\n",
    "\n",
    "# with mp.Pool(len(num_clusters_range)) as pool:\n",
    "#     results = pool.starmap(test_fn_clusters, (\n",
    "#         (\n",
    "#             num_clusters,\n",
    "#             cluster_size_range,\n",
    "#             cluster_spacing_range,\n",
    "#             iterations,\n",
    "#             true_center,\n",
    "#             true_speed\n",
    "#         ) for num_clusters in num_clusters_range)\n",
    "#     )\n",
    "#     errs = np.array(results)\n",
    "\n"
   ]
  },
  {
   "cell_type": "markdown",
   "metadata": {},
   "source": [
    "Plot the errors. `shape=(len(num_clusters_range), len(cluster_size_range), len(cluster_spacing_range), num_err_types)`\n",
    "<br>\n",
    "For each type of error, one bar graph for cluster_size=3 and one for cluster_size=4. "
   ]
  },
  {
   "cell_type": "code",
   "execution_count": null,
   "metadata": {},
   "outputs": [],
   "source": [
    "# Plotting\n",
    "barWidth = 0.1\n",
    "err_labels = (\"Position Error (mean Euclidean, m)\", \"Speed Error (mean, m/s)\")\n",
    "for err_type in range(num_err_types):\n",
    "\n",
    "    for csize0, cluster_size in enumerate(cluster_size_range):\n",
    "        b = 0\n",
    "        fig = plt.subplots(figsize=(20, 5))\n",
    "        colors = (\"#eb4034\", \"#dea71b\", \"#b0f542\", \"#0d8c4a\", \"#0d338c\", \"#36f5ff\", \"#8a36ff\", \"#ff00e6\", \"#850080\")\n",
    "        for cspacing0, cluster_spacing in enumerate(cluster_spacing_range):\n",
    "            br = list(num_clusters_range)\n",
    "            br = [x + barWidth * b for x in br]\n",
    "            plt.bar(br, errs[:, csize0, cspacing0, err_type], color=colors[csize0], width=barWidth, label=f\"cluster_spacing={cluster_spacing}\")\n",
    "            b += 1\n",
    "\n",
    "        plt.legend()\n",
    "        plt.xlabel(\"num_clusters\")\n",
    "        plt.title(err_labels[err_type] + f\"\\nwith cluster_size={cluster_size}\")\n",
    "        plt.show()"
   ]
  },
  {
   "cell_type": "code",
   "execution_count": 4,
   "metadata": {},
   "outputs": [
    {
     "data": {
      "text/plain": [
       "array([[[[27.09622133,  4.68513913]]]])"
      ]
     },
     "execution_count": 4,
     "metadata": {},
     "output_type": "execute_result"
    }
   ],
   "source": [
    "errs"
   ]
  },
  {
   "cell_type": "code",
   "execution_count": null,
   "metadata": {},
   "outputs": [],
   "source": [
    "iterations = 5\n",
    "num_err_types = 4\n",
    "avg_loc_err = 0\n",
    "avg_center_err = 0\n",
    "avg_est_center_err = 0\n",
    "avg_errs = np.zeros(num_err_types)\n",
    "\n",
    "for it in tqdm(range(iterations)):\n",
    "    wsn.reset_clusters()\n",
    "    est_pos = wsn.localize_continuous(\"cTDOA\", signal_type=\"fn\")\n",
    "    loc_err = dist(est_pos[:2], root)\n",
    "    center = np.mean(wsn.nodes, axis=0)\n",
    "    center_err = dist(center, root)\n",
    "    est_center_err = dist(est_pos[:2], center)\n",
    "\n",
    "    avg_errs += np.array([loc_err, center_err, est_center_err])\n",
    "avg_errs /= iterations\n",
    "print(avg_errs)\n"
   ]
  },
  {
   "cell_type": "code",
   "execution_count": null,
   "metadata": {},
   "outputs": [],
   "source": [
    "wsn.localize_continuous(\"cTDOA\", signal_type=\"fn\")"
   ]
  }
 ],
 "metadata": {
  "interpreter": {
   "hash": "0a326387514bff8cff46362682c6b5d6706650c507f9d6555fe15603d3afa14e"
  },
  "kernelspec": {
   "display_name": "Python 3.8.10 ('vwsn': venv)",
   "language": "python",
   "name": "python3"
  },
  "language_info": {
   "codemirror_mode": {
    "name": "ipython",
    "version": 3
   },
   "file_extension": ".py",
   "mimetype": "text/x-python",
   "name": "python",
   "nbconvert_exporter": "python",
   "pygments_lexer": "ipython3",
   "version": "3.8.10"
  },
  "orig_nbformat": 4
 },
 "nbformat": 4,
 "nbformat_minor": 2
}
