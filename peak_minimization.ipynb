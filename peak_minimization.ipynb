{
 "cells": [
  {
   "cell_type": "markdown",
   "metadata": {},
   "source": [
    "# `peak_minimization.ipynb`\n",
    "This file is to test the hypothesis of using peaks to minimize $||(I-HH^+)b||$. Once it is working, it should be added to `WSN.py` under `localize_min_peaks`."
   ]
  },
  {
   "cell_type": "markdown",
   "metadata": {},
   "source": [
    "Liberties (assumptions) taken:\n",
    "* For now, I am assuming I know the speed to be `c=1.6424885622140555`. After I get this working, I will work on an algorithm for estimating this speed. I use the speed estimate to eliminate peaks which are too far from 0 to be possible.\n",
    "* Sometimes, nodes are so close together that limiting the positions of the peaks makes it impossible to see the peak (since such a small amount of it is seen). So, I extend the max_tau by adding a small amount. I am assuming that I know that this amount should be about <b>20 time steps</b>, since I know that the period is about <b>100 time steps</b>. In the future, the period will have to be estimated to know how much of the peak needs to be seen in order to detect it.\n",
    "* I am putting a minimum on the height of peaks to be considered, since there are small peaks which do not tell us about the time shift. I say that the peak must be at least `inclusion_factor *` the height of the tallest peak. Right now, `inclusion_factor = 0.6`."
   ]
  },
  {
   "cell_type": "markdown",
   "metadata": {},
   "source": [
    "Other notes:\n",
    "* With a node space size of 100x100 and a speed of `c=1.6424885622140555`, it would take ~60s for the the signal to propagate from one side to the other or ~85s for it to propagate from one corner to the other. I remove the first 400 time steps (or 40s) from the signal to allow the first wave time to arrive, so the original parameter, `T` of `mtin.default_fn_equ_params`, which was `1000` or 100s, will not work. Therefore, I changed `T` to `2000` in `mutual_information.py`."
   ]
  },
  {
   "cell_type": "code",
   "execution_count": 1,
   "metadata": {},
   "outputs": [],
   "source": [
    "from WSN import *\n",
    "import mutual_information as mtin\n",
    "from scipy.signal import find_peaks"
   ]
  },
  {
   "cell_type": "code",
   "execution_count": 2,
   "metadata": {},
   "outputs": [],
   "source": [
    "mtin.solve_default_fn_equ()"
   ]
  },
  {
   "cell_type": "markdown",
   "metadata": {},
   "source": [
    "Stats to find:\n",
    "* With the list of results sorted by output accuracy, \n",
    "    * how high on the list do the correct peaks land?\n",
    "    * how high on the list does the highest result when sorted by lse land?\n",
    "    * how often does the highest result correspond to the correct peaks?\n",
    "* With the list of results sorted by lse,\n",
    "    * how high on the list do the correct peaks land?\n",
    "    * how often does the highest result correspond to the correct peaks?\n",
    "    * what is the output accuracy (distance and speed squared) of the highest result\n",
    "        * when it is the correct peaks?\n",
    "        * when it is not the correct peaks?\n",
    "        * on average?\n",
    "* How many combinations of peaks were there on average?"
   ]
  },
  {
   "cell_type": "code",
   "execution_count": 4,
   "metadata": {},
   "outputs": [],
   "source": [
    "# Generate signals and find all peaks\n",
    "def get_all_fn_peaks(self, r0=None):\n",
    "    if r0 is None:\n",
    "        r0 = np.array([55, 55])\n",
    "    results = self.transmit_continuous(signal_type=\"fn\")\n",
    "    assert np.all(np.array([result[0] for result in results]) == self.nodes)\n",
    "\n",
    "    all_peaks = [] # [(rn, rm, p, array([p1, p2, p3])), ...]\n",
    "\n",
    "    for _, i, j in self.find_MST():\n",
    "        ri, sigi = results[i]\n",
    "        rj, sigj = results[j]\n",
    "        dt = 0.1\n",
    "        max_delay = dist(ri, rj) / c\n",
    "        max_tau = int(max_delay / dt) + 20\n",
    "        shifts = np.arange(-max_tau, max_tau, 1)\n",
    "        mis = mtin.mi_shift(np.transpose([sigi, sigj]), shifts)\n",
    "\n",
    "        max_peak = max(mis)\n",
    "        inclusion_factor = 0.6\n",
    "        peaks, _ = find_peaks(mis, height=max_peak * inclusion_factor)\n",
    "        peaks = shifts[peaks] * dt\n",
    "\n",
    "        p = (dist(ri, r0) - dist(rj, r0)) / c\n",
    "        all_peaks.append((ri, rj, p, peaks))\n",
    "    return all_peaks\n"
   ]
  },
  {
   "cell_type": "code",
   "execution_count": 5,
   "metadata": {},
   "outputs": [],
   "source": [
    "# Find outputs for every peaks in all_peaks\n",
    "def get_peaks_outputs(self, all_peaks, r0=None):\n",
    "    if r0 is None:\n",
    "        r0 = np.array([55, 55])\n",
    "    \n",
    "    nodes = [tuple(node) for node in self.nodes]\n",
    "    tree_dict = {node: [] for node in nodes}\n",
    "    for rn, rm, _, _ in all_peaks:\n",
    "        tree_dict[tuple(rn)].append(tuple(rm))\n",
    "        tree_dict[tuple(rm)].append(tuple(rn))\n",
    "    r1 = nodes[0]\n",
    "\n",
    "    output = []\n",
    "\n",
    "    pinds = [0] * len(all_peaks)\n",
    "    d = 0\n",
    "    while True:\n",
    "        # Get H and b\n",
    "        peaks_dict = {(tuple(rn), tuple(rm)): (i, p, peaks) for i, (rn, rm, p, peaks) in enumerate(all_peaks)}\n",
    "\n",
    "        delays = {r1: 0}\n",
    "        def get_child_delays(root):\n",
    "            children = tree_dict[root]\n",
    "            for child in children:\n",
    "                if child in delays:\n",
    "                    continue\n",
    "\n",
    "                if (root, child) in peaks_dict:\n",
    "                    i, p, peaks = peaks_dict[(root, child)]\n",
    "                    p = -p\n",
    "                    peaks = -peaks\n",
    "                else:\n",
    "                    i, p, peaks = peaks_dict[(child, root)]\n",
    "                peak = peaks[pinds[i]] if d != 0 else p\n",
    "                delays[child] = delays[root] + peak\n",
    "                get_child_delays(child)\n",
    "        get_child_delays(r1)\n",
    "\n",
    "        Hb = [\n",
    "            self.get_mTDOA_H_and_b_row(\n",
    "                (np.array(rn), delays[tuple(rm)] + (peaks[pinds[i]]) if d != 0 else p),\n",
    "                (np.array(rm), delays[tuple(rm)])\n",
    "            )\n",
    "            for i, (rn, rm, p, peaks) in enumerate(all_peaks)\n",
    "        ]\n",
    "        H = np.zeros((len(Hb), 4))\n",
    "        b = np.zeros(len(Hb))\n",
    "\n",
    "        # Hb = [(Hrow0, b0), (Hrow1, b1), ...]\n",
    "        # H = [Hrow0, Hrow1, ...]\n",
    "        # b = [b0, b1, ...]\n",
    "        # This line unpacks the tuples from Hb into H and b\n",
    "        [0 for i, (H[i], b[i]) in enumerate(Hb)]\n",
    "\n",
    "        # Calculate position\n",
    "        Hpinv = np.linalg.pinv(H)\n",
    "        x = Hpinv @ b\n",
    "        est_pos = x[:2]\n",
    "        c2 = x[3]\n",
    "\n",
    "        # Calculate error\n",
    "        least_squared = (np.eye(len(b)) - H @ Hpinv) @ b\n",
    "        lse = np.dot(least_squared, least_squared)\n",
    "\n",
    "        distance_err = dist(est_pos, r0)\n",
    "        speed_squared_err = np.abs(c2 - self.c ** 2)\n",
    "\n",
    "        # Add position and error to output matrix\n",
    "        output.append((\n",
    "            lse,\n",
    "            distance_err,\n",
    "            speed_squared_err,\n",
    "            tuple(pinds) if d != 0 else [-1] * len(pinds),\n",
    "            [all_peaks[i][3][pind] for i, pind in enumerate(pinds)] if d != 0 else [p for _, _, p, _ in all_peaks],\n",
    "            x\n",
    "        ))\n",
    "\n",
    "\n",
    "        # Increment peak indices\n",
    "        # If finished, break\n",
    "        if d != 0:\n",
    "            for b in range(len(pinds)):\n",
    "                pinds[b] += 1\n",
    "                if pinds[b] >= len(all_peaks[b][3]):\n",
    "                    pinds[b] = 0\n",
    "                else:\n",
    "                    break\n",
    "            else:\n",
    "                break\n",
    "        d += 1\n",
    "    real_peaks = output[0]\n",
    "    output.pop(0)\n",
    "    return real_peaks, output\n",
    "\n",
    "def find_most_realistic_peaks(self, output, real_peaks):\n",
    "    return min(output, key=lambda x: np.sum(np.abs(np.array(x[4]) - np.array(real_peaks[4]))))\n"
   ]
  },
  {
   "cell_type": "markdown",
   "metadata": {},
   "source": [
    "Format of `errs`:\n",
    "    `[(lse, distance_err, speed_squared_err, pinds, array([p1, p2, p3]), x), ...]`"
   ]
  },
  {
   "cell_type": "code",
   "execution_count": 12,
   "metadata": {},
   "outputs": [],
   "source": [
    "# Create the WSN and find the MST\n",
    "N = 7\n",
    "c = 1.6424885622140555\n",
    "r0 = np.array([55, 55])\n",
    "wsn = WSN(100, N, std=0, D=142, c=c, verbose=False)\n",
    "wsn.reset_nodes()\n",
    "wsn.reset_anchors(range(N))\n",
    "# MST = wsn.find_MST()\n"
   ]
  },
  {
   "cell_type": "code",
   "execution_count": 24,
   "metadata": {},
   "outputs": [
    {
     "data": {
      "image/png": "[encoded data removed]",
      "text/plain": [
       "<Figure size 432x288 with 1 Axes>"
      ]
     },
     "metadata": {
      "needs_background": "light"
     },
     "output_type": "display_data"
    }
   ],
   "source": [
    "# Visualization of nodes\n",
    "[plt.plot(*np.transpose([wsn.nodes[i], wsn.nodes[j]]), c=\"orange\") for _, i, j in wsn.find_MST()]\n",
    "plt.scatter(wsn.nodes[:, 0], wsn.nodes[:, 1], c=\"blue\")\n",
    "plt.show()"
   ]
  },
  {
   "cell_type": "code",
   "execution_count": 14,
   "metadata": {},
   "outputs": [],
   "source": [
    "LSE, DISTANCE_ERR, SPEED_SQUARED_ERR, PINDS, PEAKS, X = range(6)"
   ]
  },
  {
   "cell_type": "code",
   "execution_count": 15,
   "metadata": {},
   "outputs": [
    {
     "data": {
      "text/plain": [
       "[None, None, None]"
      ]
     },
     "execution_count": 15,
     "metadata": {},
     "output_type": "execute_result"
    }
   ],
   "source": [
    "[setattr(WSN, attr, globals()[attr]) for attr in (\n",
    "    \"get_all_fn_peaks\",\n",
    "    \"get_peaks_outputs\",\n",
    "    \"find_most_realistic_peaks\"\n",
    ")]"
   ]
  },
  {
   "cell_type": "code",
   "execution_count": 30,
   "metadata": {},
   "outputs": [],
   "source": [
    "iterations = 1000\n",
    "\n",
    "# With the list of results sorted by accuracy,\n",
    "#   how high on the list do the correct peaks land?\n",
    "acc__correct_index_avg = 0\n",
    "#   how high on the list does the highest result when sorted by lse land?\n",
    "acc__lse_output_index_avg = 0\n",
    "#   how often does the highest result correspond to the correct peaks?\n",
    "acc__correct_index_eq_0_total = 0\n",
    "\n",
    "# With the list of results sorted by lse,\n",
    "#   how high on the list do the correct peaks land?\n",
    "lse__correct_index_avg = 0\n",
    "#   how often does the highest result correspond to the correct peaks?\n",
    "lse__correct_index_eq_0_total = 0\n",
    "#   what is the output accuracy (distance and speed squared) of the highest result\n",
    "#       when it is the correct peaks?\n",
    "lse__dist_acc_correct_index_eq_0_avg = 0\n",
    "lse__spsq_acc_correct_index_eq_0_avg = 0\n",
    "#       when it is not the correct peaks?\n",
    "lse__dist_acc_correct_index_ne_0_avg = 0\n",
    "lse__spsq_acc_correct_index_ne_0_avg = 0\n",
    "#       on average\n",
    "lse__dist_acc_avg = 0\n",
    "lse__spsq_acc_avg = 0\n",
    "\n",
    "# How many combinations of peaks were there on average?\n",
    "len_output = 0\n"
   ]
  },
  {
   "cell_type": "code",
   "execution_count": 31,
   "metadata": {},
   "outputs": [
    {
     "name": "stderr",
     "output_type": "stream",
     "text": [
      "  8%|▊         | 84/1000 [00:44<06:32,  2.33it/s]d:\\Repositories\\WSN-Localization\\mutual_information.py:105: RuntimeWarning: divide by zero encountered in log\n",
      "  mi = -0.5 * np.log(np.linalg.det(cor))\n",
      " 92%|█████████▏| 917/1000 [08:05<00:54,  1.51it/s]d:\\Repositories\\WSN-Localization\\mutual_information.py:105: RuntimeWarning: invalid value encountered in log\n",
      "  mi = -0.5 * np.log(np.linalg.det(cor))\n",
      "100%|██████████| 1000/1000 [08:48<00:00,  1.89it/s]\n"
     ]
    }
   ],
   "source": [
    "for it in tqdm(range(iterations)):\n",
    "    wsn.reset_nodes()\n",
    "    all_peaks = wsn.get_all_fn_peaks()\n",
    "    real_peaks, output = wsn.get_peaks_outputs(all_peaks)\n",
    "    len_output += len(output)\n",
    "    most_realistic_peaks = wsn.find_most_realistic_peaks(output, real_peaks)\n",
    "    output: list\n",
    "    \n",
    "    # Sort by lse\n",
    "    output.sort(key=lambda x: x[LSE])\n",
    "\n",
    "    lse__correct_index = output.index(most_realistic_peaks)\n",
    "    lse__correct_index_avg += lse__correct_index\n",
    "    lse_output = output[0]\n",
    "    if lse__correct_index == 0:\n",
    "        lse__correct_index_eq_0_total += 1\n",
    "        lse__dist_acc_correct_index_eq_0_avg += lse_output[DISTANCE_ERR]\n",
    "        lse__spsq_acc_correct_index_eq_0_avg += lse_output[SPEED_SQUARED_ERR]\n",
    "    else:\n",
    "        lse__dist_acc_correct_index_ne_0_avg += lse_output[DISTANCE_ERR]\n",
    "        lse__spsq_acc_correct_index_ne_0_avg += lse_output[SPEED_SQUARED_ERR]\n",
    "    lse__dist_acc_avg += lse_output[DISTANCE_ERR]\n",
    "    lse__spsq_acc_avg += lse_output[SPEED_SQUARED_ERR]\n",
    "\n",
    "    # Sort by accuracy\n",
    "    output.sort(key=lambda x: x[DISTANCE_ERR])\n",
    "    acc__correct_index = output.index(most_realistic_peaks)\n",
    "    acc__correct_index_avg += acc__correct_index\n",
    "    if acc__correct_index == 0:\n",
    "        acc__correct_index_eq_0_total += 1\n",
    "    acc__lse_output_index = output.index(lse_output)\n",
    "    acc__lse_output_index_avg += acc__lse_output_index\n",
    "    \n",
    "\n",
    "acc__correct_index_avg /= iterations\n",
    "acc__lse_output_index_avg /= iterations\n",
    "acc__correct_index_eq_0_total\n",
    "lse__correct_index_avg /= iterations\n",
    "lse__correct_index_eq_0_total\n",
    "lse__dist_acc_correct_index_eq_0_avg /= lse__correct_index_eq_0_total\n",
    "lse__spsq_acc_correct_index_eq_0_avg /= lse__correct_index_eq_0_total\n",
    "lse__dist_acc_correct_index_ne_0_avg /= (iterations - lse__correct_index_eq_0_total)\n",
    "lse__spsq_acc_correct_index_ne_0_avg /= (iterations - lse__correct_index_eq_0_total)\n",
    "lse__dist_acc_avg /= iterations\n",
    "lse__spsq_acc_avg /= iterations\n",
    "len_output /= iterations\n"
   ]
  },
  {
   "cell_type": "code",
   "execution_count": 35,
   "metadata": {},
   "outputs": [
    {
     "name": "stdout",
     "output_type": "stream",
     "text": [
      "On average, there were \n",
      "    295.49 combinations of peaks to choose from.\n",
      "\n",
      "====When sorted by output accuracy====\n",
      "The correct set of peaks was the \n",
      "    22.27th most accurate on average.\n",
      "The lse ouptut peaks were the \n",
      "    149.78th most accurate on average.\n",
      "Out of the 1000 cases, the correct peaks were the most acurate in \n",
      "    290 of them.\n",
      "\n",
      "====When sorted by lse accuracy===\n",
      "The correct set of peaks had the \n",
      "    20.21th lowest lse, ||(I-HH+)b||.\n",
      "Out of the 1000 cases, the lse output peaks were the correct peaks in \n",
      "    153 of them.\n",
      "When the lse output peaks were correct, the estimated position was \n",
      "    2.9 m away from the target node on average.\n",
      "When the lse output peaks were correct, the estimated speed squared was \n",
      "    1.83 m^2/s^2 away from the true speed squared of 2.697768677003995 m^2/s^2 on average.\n",
      "When the lse output peaks were not correct, the estimated position was \n",
      "    24.66 m away from the target node on average.\n",
      "When the lse output peaks were not correct, the estimated speed squared was \n",
      "    5.99 m^2/s^2 away from the true speed squared of 2.697768677003995 m^2/s^2 on average.\n",
      "On average, the estimated position was \n",
      "    21.33 m away from the target node.\n",
      "On average, the estimated speed squared was \n",
      "    5.35 m^2/s^2 away from the true speed squared of 2.697768677003995 m^2/s^2.\n"
     ]
    }
   ],
   "source": [
    "# Report findings\n",
    "print(f\"On average, there were \\n    {round(len_output, 2)} combinations of peaks to choose from.\")\n",
    "print()\n",
    "print(\"====When sorted by output accuracy====\")\n",
    "print(f\"The correct set of peaks was the \\n    {round(acc__correct_index_avg, 2)}th most accurate on average.\")\n",
    "print(f\"The lse ouptut peaks were the \\n    {round(acc__lse_output_index_avg, 2)}th most accurate on average.\")\n",
    "print(f\"Out of the {iterations} cases, the correct peaks were the most acurate in \\n    {acc__correct_index_eq_0_total} of them.\")\n",
    "print()\n",
    "print(\"====When sorted by lse accuracy===\")\n",
    "print(f\"The correct set of peaks had the \\n    {round(lse__correct_index_avg, 2)}th lowest lse, ||(I-HH+)b||.\")\n",
    "print(f\"Out of the {iterations} cases, the lse output peaks were the correct peaks in \\n    {lse__correct_index_eq_0_total} of them.\")\n",
    "print(f\"When the lse output peaks were correct, the estimated position was \\n    {round(lse__dist_acc_correct_index_eq_0_avg, 2)} m away from the target node on average.\")\n",
    "print(f\"When the lse output peaks were correct, the estimated speed squared was \\n    {round(lse__spsq_acc_correct_index_eq_0_avg, 2)} m^2/s^2 away from the true speed squared of 2.697768677003995 m^2/s^2 on average.\")\n",
    "print(f\"When the lse output peaks were not correct, the estimated position was \\n    {round(lse__dist_acc_correct_index_ne_0_avg, 2)} m away from the target node on average.\")\n",
    "print(f\"When the lse output peaks were not correct, the estimated speed squared was \\n    {round(lse__spsq_acc_correct_index_ne_0_avg, 2)} m^2/s^2 away from the true speed squared of 2.697768677003995 m^2/s^2 on average.\")\n",
    "print(f\"On average, the estimated position was \\n    {round(lse__dist_acc_avg, 2)} m away from the target node.\")\n",
    "print(f\"On average, the estimated speed squared was \\n    {round(lse__spsq_acc_avg, 2)} m^2/s^2 away from the true speed squared of 2.697768677003995 m^2/s^2.\")\n"
   ]
  }
 ],
 "metadata": {
  "kernelspec": {
   "display_name": "Python 3.8.10 ('vwsn': venv)",
   "language": "python",
   "name": "python3"
  },
  "language_info": {
   "codemirror_mode": {
    "name": "ipython",
    "version": 3
   },
   "file_extension": ".py",
   "mimetype": "text/x-python",
   "name": "python",
   "nbconvert_exporter": "python",
   "pygments_lexer": "ipython3",
   "version": "3.8.10"
  },
  "orig_nbformat": 4,
  "vscode": {
   "interpreter": {
    "hash": "0a326387514bff8cff46362682c6b5d6706650c507f9d6555fe15603d3afa14e"
   }
  }
 },
 "nbformat": 4,
 "nbformat_minor": 2
}
