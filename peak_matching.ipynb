{
 "cells": [
  {
   "cell_type": "markdown",
   "metadata": {},
   "source": [
    "# `peak_matching.ipynb`\n",
    "mTDOA works by (1) generating time delays based on the location of the target node and then (2) using those time delays to deduce the location of the target node. It is like finding the inverse of a funciton. This works, because there is only one target location that would give those time delays. With the periodic signal verion, we try to do the same thing, but we are not sure of the time delays. Since the signal is periodic, there might be multiple target locations which would give us the same signals. This is unlikely, but how would we know if it is the case? "
   ]
  },
  {
   "cell_type": "markdown",
   "metadata": {},
   "source": [
    "The goal of this file was to figure out if multiple locations in space would give the same signals. It seems unlikely, since there are N=6 values to match, but the target only has freedom in two directions. I did this by overlaying the space with points and calculating the time delays that point would give and then nudging it in the direction that would decrease the difference between calculated time delays and the real time delays. This actually turns out to solve the localization problem quite well. This file will work well as a prototype for applying this method with the FN model, which I will do in `peak_matching_fn.ipynb`."
   ]
  },
  {
   "cell_type": "markdown",
   "metadata": {},
   "source": [
    "Note: This file does not handle not knowing the phase of the root anchor, $r_1$. The method should be iterated over all phases, `0:1:0.01`."
   ]
  },
  {
   "cell_type": "code",
   "execution_count": 1,
   "metadata": {},
   "outputs": [],
   "source": [
    "from matplotlib import pyplot as plt\n",
    "import numpy as np\n",
    "from numba import jit\n",
    "from color import *\n"
   ]
  },
  {
   "cell_type": "code",
   "execution_count": 2,
   "metadata": {},
   "outputs": [],
   "source": [
    "@jit(nopython=True)\n",
    "def dist2(r1: np.ndarray, r2: np.ndarray):\n",
    "    diff = r1 - r2\n",
    "    return np.dot(diff, diff)\n",
    "\n",
    "@jit(nopython=True)\n",
    "def dist(r1: np.ndarray, r2: np.ndarray):\n",
    "    return np.sqrt(dist2(r1, r2))"
   ]
  },
  {
   "cell_type": "code",
   "execution_count": 3,
   "metadata": {},
   "outputs": [],
   "source": [
    "@jit(nopython=True)\n",
    "def get_points_frames(nodes: np.ndarray, times: np.ndarray, points: np.ndarray, frames: int, wavelength: float, period: float, epsilon: float):\n",
    "    points_frames = np.empty((frames, *points.shape))\n",
    "    combinatory_dxs = np.empty((frames, len(points)))\n",
    "    for frame in range(frames):\n",
    "        for p, point in enumerate(points):\n",
    "            dx = np.zeros(2)\n",
    "            combinatory_dx = 0.0\n",
    "            for node, t in zip(nodes, times):\n",
    "                d = dist(point, node)\n",
    "                rhat = (node - point) / d\n",
    "                dx_mag = np.sin(2 * np.pi * (d / wavelength - t / period))\n",
    "                dx += rhat * dx_mag\n",
    "                combinatory_dx += np.abs(dx_mag)\n",
    "            point += epsilon * dx\n",
    "            combinatory_dxs[frame, p] = epsilon * combinatory_dx\n",
    "        points_frames[frame] = points\n",
    "    return points_frames, combinatory_dxs\n"
   ]
  },
  {
   "cell_type": "code",
   "execution_count": 4,
   "metadata": {},
   "outputs": [],
   "source": [
    "wavelength = 17.0\n",
    "period = 11.0\n",
    "speed = wavelength / period"
   ]
  },
  {
   "cell_type": "code",
   "execution_count": 5,
   "metadata": {},
   "outputs": [],
   "source": [
    "N = 6\n",
    "r = 20\n",
    "# nodes = np.array([\n",
    "#     np.power(-1+0j, 2 * i / N)\n",
    "#     for i in range(N)\n",
    "# ]) * r\n",
    "# nodes = np.concatenate((\n",
    "#     nodes.real.reshape((-1, 1)),\n",
    "#     nodes.imag.reshape((-1, 1))\n",
    "# ), axis=1)\n",
    "# nodes += np.array([50, 50])\n",
    "nodes = np.random.uniform(0, 100, size=(N, 2))"
   ]
  },
  {
   "cell_type": "code",
   "execution_count": 6,
   "metadata": {},
   "outputs": [],
   "source": [
    "xs = np.arange(0, 100, 1.0)\n",
    "ys = np.arange(0, 100, 1.0)\n",
    "xs, ys = points = np.array(np.meshgrid(xs, ys)).reshape((2, -1))\n",
    "points = points.T"
   ]
  },
  {
   "cell_type": "code",
   "execution_count": 7,
   "metadata": {},
   "outputs": [],
   "source": [
    "# r0 = np.array([55, 55])\n",
    "r0 = np.random.uniform(0, 100, size=2)\n",
    "times = np.array([(dist(node, r0) / speed) % period for node in nodes])"
   ]
  },
  {
   "cell_type": "code",
   "execution_count": 8,
   "metadata": {},
   "outputs": [
    {
     "data": {
      "text/plain": [
       "<matplotlib.collections.PathCollection at 0x2147ed7b880>"
      ]
     },
     "execution_count": 8,
     "metadata": {},
     "output_type": "execute_result"
    },
    {
     "data": {
      "image/png": "[encoded data removed]",
      "text/plain": [
       "<Figure size 432x288 with 1 Axes>"
      ]
     },
     "metadata": {
      "needs_background": "light"
     },
     "output_type": "display_data"
    }
   ],
   "source": [
    "plt.scatter(nodes[:, 0], nodes[:, 1])\n",
    "plt.scatter(*r0)"
   ]
  },
  {
   "cell_type": "code",
   "execution_count": 9,
   "metadata": {},
   "outputs": [],
   "source": [
    "points_frames, combinatory_dxs = get_points_frames(nodes, times, points, 300, wavelength=wavelength, period=period, epsilon=0.1)"
   ]
  },
  {
   "cell_type": "code",
   "execution_count": 10,
   "metadata": {},
   "outputs": [],
   "source": [
    "def plot_points_frame(points_frame, combinatory_dxs):\n",
    "    mincd = np.nanmin(combinatory_dxs)\n",
    "    maxcd = np.nanmax(combinatory_dxs)\n",
    "    plt.scatter(\n",
    "        points_frame[:, 0], points_frame[:, 1], s=1, \n",
    "        c=[\n",
    "            interpolate_color(\"#1010ee\", \"#d4d4d4\", (cd - mincd) / (maxcd - mincd)).get_hex()\n",
    "            if not np.isnan(cd) else \"#d4d4d4\"\n",
    "            for cd in combinatory_dxs\n",
    "        ]\n",
    "    )\n",
    "    plt.scatter(\n",
    "        *points_frame[np.nanargmin(combinatory_dxs)], marker='x', c=\"red\"\n",
    "    )"
   ]
  },
  {
   "cell_type": "code",
   "execution_count": 11,
   "metadata": {},
   "outputs": [
    {
     "data": {
      "image/png": "[encoded data removed]",
      "text/plain": [
       "<Figure size 432x288 with 1 Axes>"
      ]
     },
     "metadata": {
      "needs_background": "light"
     },
     "output_type": "display_data"
    }
   ],
   "source": [
    "plot_points_frame(points_frames[-1], combinatory_dxs[-1])"
   ]
  },
  {
   "cell_type": "code",
   "execution_count": 12,
   "metadata": {},
   "outputs": [
    {
     "data": {
      "text/plain": [
       "(array([91.26640134, 61.21347544]), array([91.26640134, 61.21347544]))"
      ]
     },
     "execution_count": 12,
     "metadata": {},
     "output_type": "execute_result"
    }
   ],
   "source": [
    "r0, points_frames[-1, np.nanargmin(combinatory_dxs[-1])]"
   ]
  },
  {
   "cell_type": "code",
   "execution_count": 13,
   "metadata": {},
   "outputs": [
    {
     "data": {
      "text/plain": [
       "1.7754160106886562e-14"
      ]
     },
     "execution_count": 13,
     "metadata": {},
     "output_type": "execute_result"
    }
   ],
   "source": [
    "np.nanmin(combinatory_dxs[-1])"
   ]
  },
  {
   "cell_type": "code",
   "execution_count": 14,
   "metadata": {},
   "outputs": [
    {
     "data": {
      "image/png": "[encoded data removed]",
      "text/plain": [
       "<Figure size 432x288 with 1 Axes>"
      ]
     },
     "metadata": {
      "needs_background": "light"
     },
     "output_type": "display_data"
    }
   ],
   "source": [
    "sorted_comb_dxs = combinatory_dxs[-1].copy()\n",
    "sorted_comb_dxs.sort()\n",
    "plt.plot(sorted_comb_dxs)\n",
    "plt.show()"
   ]
  }
 ],
 "metadata": {
  "kernelspec": {
   "display_name": "Python 3.8.10 ('vwsn': venv)",
   "language": "python",
   "name": "python3"
  },
  "language_info": {
   "codemirror_mode": {
    "name": "ipython",
    "version": 3
   },
   "file_extension": ".py",
   "mimetype": "text/x-python",
   "name": "python",
   "nbconvert_exporter": "python",
   "pygments_lexer": "ipython3",
   "version": "3.8.10"
  },
  "orig_nbformat": 4,
  "vscode": {
   "interpreter": {
    "hash": "0a326387514bff8cff46362682c6b5d6706650c507f9d6555fe15603d3afa14e"
   }
  }
 },
 "nbformat": 4,
 "nbformat_minor": 2
}
