{
 "cells": [
  {
   "cell_type": "code",
   "execution_count": null,
   "metadata": {},
   "outputs": [],
   "source": [
    "from pde import *\n",
    "import numpy as np\n",
    "from matplotlib import pyplot as plt\n",
    "from tqdm import tqdm\n",
    "import os\n",
    "import json"
   ]
  },
  {
   "cell_type": "markdown",
   "metadata": {},
   "source": [
    "This function lets me match the parameters to output in case I want to go back to a previous state."
   ]
  },
  {
   "cell_type": "code",
   "execution_count": null,
   "metadata": {},
   "outputs": [],
   "source": [
    "def save_params(params, dir):\n",
    "    with open(dir, \"w\") as file:\n",
    "        json.dump(params, file)"
   ]
  },
  {
   "cell_type": "markdown",
   "metadata": {},
   "source": [
    "This is the class and code I am using to generate the model."
   ]
  },
  {
   "cell_type": "code",
   "execution_count": null,
   "metadata": {},
   "outputs": [],
   "source": [
    "# https://py-pde.readthedocs.io/en/latest/examples_gallery/pde_coupled.html#sphx-glr-examples-gallery-pde-coupled-py\n",
    "\n",
    "class FitzhughNagumoPDE(PDEBase):\n",
    "    \"\"\"FitzHugh–Nagumo model with diffusive coupling\"\"\"\n",
    "\n",
    "    def __init__(\n",
    "        self,\n",
    "        stimulus=0.5,\n",
    "        τ=10,\n",
    "        a=0,\n",
    "        b=0,\n",
    "        D=1,\n",
    "        w_h=1,\n",
    "        w_l=0.5,\n",
    "        bc=\"auto_periodic_neumann\"\n",
    "    ):\n",
    "        self.bc = bc\n",
    "        self.stimulus = stimulus\n",
    "        self.τ = τ\n",
    "        self.a = a\n",
    "        self.b = b\n",
    "        self.D = D\n",
    "        self.w_h = w_h\n",
    "        self.w_l = w_l\n",
    "\n",
    "    def evolution_rate(self, state, t=0):\n",
    "        v, w = state  # membrane potential and recovery variable\n",
    "\n",
    "        v_t = self.D * v.laplace(bc=self.bc) + self.stimulus + (v - v**3 / 3 - w)# * self.τ\n",
    "        w_t = (v + self.a - self.b * w) / self.τ * ((self.w_h - self.w_l) / (1 + np.exp(-4 * v)) + self.w_l)\n",
    "\n",
    "        return FieldCollection([v_t, w_t])\n",
    "\n",
    "if __name__ == \"__main__\":\n",
    "    # grid = UnitGrid([32, 32])\n",
    "    grid = CartesianGrid([[-1, 1], [-1, 1]], [40, 40])\n",
    "    # state = FieldCollection.scalar_random_uniform(2, grid)\n",
    "    dx = 1/40\n",
    "    origin = np.array([20, 20])\n",
    "    data = np.zeros(shape=(2, 40, 40))\n",
    "    # data[:, 9, 10] = data[:, 10, 9] = data[:, 11, 10] = data[:, 10, 11] = -0.5\n",
    "    # data[:, 10, 10] = -1\n",
    "    data[0, 20, 20] = -1.0367\n",
    "    data[1, 20, 20] = -0.6656\n",
    "\n",
    "    # Cos init\n",
    "    # for i in range(40):\n",
    "    #     for j in range(40):\n",
    "    #         pos = np.array([i, j]) - origin\n",
    "    #         pos = pos.astype(np.float64)\n",
    "    #         pos *= dx\n",
    "    #         r = np.sqrt(np.dot(pos, pos))\n",
    "    #         data[0, i, j] = np.cos(r * 10 * np.pi)\n",
    "    #         data[1, i, j] = np.cos(r * 10 * np.pi)\n",
    "\n",
    "\n",
    "    v_state = ScalarField(grid, data[0])\n",
    "    w_state = ScalarField(grid, data[1])\n",
    "    state = FieldCollection((v_state, w_state))\n",
    "\n",
    "    # Good waves #1\n",
    "    # params = {\n",
    "    #     \"a\": 0.7,\n",
    "    #     \"b\": 0.5,\n",
    "    #     \"τ\": 1/0.85,\n",
    "    #     \"stimulus\": 1,\n",
    "    #     \"D\": 0.0001,\n",
    "    #     \"w_h\": 0.6,\n",
    "    #     \"w_l\": 0.4,\n",
    "    # }\n",
    "\n",
    "    \n",
    "    # N = 128\n",
    "    # T = 1000\n",
    "    # t0 = 0\n",
    "    # dt = 0.1\n",
    "    # s = 0.02 # 0.02 # 0.10\n",
    "    # D = 1.0\n",
    "    # a = 0.5\n",
    "    # b = 0.7\n",
    "    # c = 0.3\n",
    "    # I = 1.0 # 1.0 # 0.5 # 1.0\n",
    "    # Other params\n",
    "    params = {\n",
    "        \"stimulus\": 0,\n",
    "        \"a\": 0.5,\n",
    "        \"b\": 0.7,\n",
    "        \"τ\": 1/0.3,\n",
    "        \"w_h\": 1,\n",
    "        \"w_l\": 1,\n",
    "        \"D\": 1\n",
    "    }\n",
    "\n",
    "    # Chick\n",
    "    # params = {\n",
    "    #     \"a\": 0.7,\n",
    "    #     \"b\": 0.5,\n",
    "    #     \"τ\": 1/0.44,\n",
    "    #     \"stimulus\": 0,\n",
    "    #     \"w_h\": 0.6,\n",
    "    #     \"w_l\": 0.4,\n",
    "    #     \"D\": 0.001\n",
    "    # }\n",
    "    memory_storage = MemoryStorage()\n",
    "    eq = FitzhughNagumoPDE(**params)\n",
    "    result = eq.solve(state, t_range=100, dt=0.01, tracker=[memory_storage.tracker(0.1)])\n",
    "    result.plot()\n",
    "    plot_kymographs(memory_storage)\n",
    "    data = memory_storage.data\n",
    "    data = np.array(data)\n",
    "    vs = data[:, 0, :]\n",
    "    ws = data[:, 1, :]\n",
    "\n",
    "    save_images = False\n",
    "    if save_images:\n",
    "        for a in tqdm(range(0, 1000, 20)):\n",
    "            fig = plt.figure()\n",
    "            fig.set_size_inches((8, 3))\n",
    "            axs = fig.subplots(1, 2, squeeze=False)\n",
    "            axes_image = axs[0, 0].imshow(vs[a], vmin=vmin, vmax=vmax)\n",
    "            plt.colorbar(axes_image, ax=axs[0, 0])\n",
    "            axes_image = axs[0, 1].imshow(ws[a], vmin=vmin, vmax=vmax)\n",
    "            plt.colorbar(axes_image, ax=axs[0, 1])\n",
    "            plt.savefig(f\"./fn_images/{a}.png\")\n",
    "            plt.close(fig)\n",
    "    print(\"Done!\")\n",
    "    \n"
   ]
  },
  {
   "cell_type": "markdown",
   "metadata": {},
   "source": [
    "This lets me visualize the initial state in real numbers. (Useful when the state grows exponentially.)"
   ]
  },
  {
   "cell_type": "code",
   "execution_count": null,
   "metadata": {},
   "outputs": [],
   "source": [
    "import pandas as pd\n",
    "v_state = ScalarField(grid, data[0, 0])\n",
    "w_state = ScalarField(grid, data[1, 0])\n",
    "D = 1\n",
    "bc = \"auto_periodic_neumann\"\n",
    "τ = 1/0.44\n",
    "stimulus = 0\n",
    "v_t = D * v_state.laplace(bc=bc)# + τ * (v_state - v_state**3 / 3 - w_state) + stimulus\n",
    "v_t.data\n",
    "df = pd.DataFrame(v_t.data)\n",
    "df.style\n"
   ]
  },
  {
   "cell_type": "markdown",
   "metadata": {},
   "source": [
    "This cell plots the value and Laplacian at the location of the initial perterbation, so I can easily tell if the root is oscillating (value plot) and if the waves are actually going out (Laplace plot). I am hoping that both plots show oscillation."
   ]
  },
  {
   "cell_type": "code",
   "execution_count": null,
   "metadata": {},
   "outputs": [],
   "source": [
    "top_v = vs[:, 20, 20]\n",
    "top_w = ws[:, 20, 20]\n",
    "bc = \"auto_periodic_neumann\"\n",
    "lap_v = np.empty(len(top_v))\n",
    "lap_w = np.empty(len(top_w))\n",
    "for a in range(len(top_v)):\n",
    "    lap = ScalarField(grid, vs[a]).laplace(bc=bc)\n",
    "    lap_v[a] = lap.data[20, 20]\n",
    "    lap = ScalarField(grid, ws[a]).laplace(bc=bc)\n",
    "    lap_w[a] = lap.data[20, 20]\n",
    "\n",
    "plt.plot(lap_v)\n",
    "plt.plot(lap_w)\n",
    "plt.xlabel(\"time\")\n",
    "plt.ylabel(\"Laplace at root\")\n",
    "plt.show()\n",
    "plt.plot(top_v, label=\"v\")\n",
    "plt.plot(top_w, label=\"w\")\n",
    "plt.legend()\n",
    "plt.xlabel(\"time\")\n",
    "plt.ylabel(\"State at root\")\n",
    "plt.show()"
   ]
  },
  {
   "cell_type": "code",
   "execution_count": null,
   "metadata": {},
   "outputs": [],
   "source": [
    "plt.plot(top_v[0:20])\n",
    "plt.plot(lap_v[0:20])"
   ]
  },
  {
   "cell_type": "code",
   "execution_count": null,
   "metadata": {},
   "outputs": [],
   "source": [
    "vmin = None\n",
    "vmax = None"
   ]
  },
  {
   "cell_type": "code",
   "execution_count": null,
   "metadata": {},
   "outputs": [],
   "source": [
    "vmin = -2\n",
    "vmax = 2"
   ]
  },
  {
   "cell_type": "markdown",
   "metadata": {},
   "source": [
    "This cell actually saves the images to a folder. I watch the animation by opening 0.png and then holding down the RIGHT ARROW key."
   ]
  },
  {
   "cell_type": "code",
   "execution_count": null,
   "metadata": {},
   "outputs": [],
   "source": [
    "\n",
    "dir = \"./fn_images/fixed_z_yamakou\"\n",
    "os.makedirs(dir, exist_ok=True)\n",
    "save_params(params, f\"{dir}/params.json\")\n",
    "for a in tqdm(range(0, 1000, 1)):\n",
    "    fig = plt.figure()\n",
    "    fig.set_size_inches((8, 3))\n",
    "    axs = fig.subplots(1, 2, squeeze=False)\n",
    "    axes_image = axs[0, 0].imshow(vs[a], vmin=vmin, vmax=vmax)\n",
    "    plt.colorbar(axes_image, ax=axs[0, 0])\n",
    "    axes_image = axs[0, 1].imshow(ws[a], vmin=vmin, vmax=vmax)\n",
    "    plt.colorbar(axes_image, ax=axs[0, 1])\n",
    "    plt.savefig(f\"{dir}/{a}.png\")\n",
    "    plt.close(fig)"
   ]
  }
 ],
 "metadata": {
  "interpreter": {
   "hash": "0a326387514bff8cff46362682c6b5d6706650c507f9d6555fe15603d3afa14e"
  },
  "kernelspec": {
   "display_name": "Python 3.8.10 ('vwsn': venv)",
   "language": "python",
   "name": "python3"
  },
  "language_info": {
   "codemirror_mode": {
    "name": "ipython",
    "version": 3
   },
   "file_extension": ".py",
   "mimetype": "text/x-python",
   "name": "python",
   "nbconvert_exporter": "python",
   "pygments_lexer": "ipython3",
   "version": "3.8.10"
  },
  "orig_nbformat": 4
 },
 "nbformat": 4,
 "nbformat_minor": 2
}
