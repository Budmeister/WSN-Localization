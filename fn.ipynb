{
 "cells": [
  {
   "cell_type": "code",
   "execution_count": 1,
   "metadata": {},
   "outputs": [],
   "source": [
    "import numpy as np\n",
    "from matplotlib import pyplot as plt\n",
    "from tqdm import tqdm\n",
    "import os\n",
    "from mutual_information import *\n",
    "import mutual_information as mtin"
   ]
  },
  {
   "cell_type": "code",
   "execution_count": 2,
   "metadata": {},
   "outputs": [],
   "source": [
    "mtin.default_fn_equ_params[\"circular_stim\"] = True\n",
    "mtin.default_fn_equ_params[\"stim\"] = [[[25, 40], [55, 55], 10]]\n",
    "mtin.default_fn_equ = FHN(**default_fn_equ_params)\n",
    "mtin.solve_default_fn_equ(resolve=True)\n",
    "\n"
   ]
  },
  {
   "cell_type": "code",
   "execution_count": 3,
   "metadata": {},
   "outputs": [],
   "source": [
    "vs = mtin.default_fn_sol[:, 0]\n",
    "ws = mtin.default_fn_sol[:, 1]\n",
    "params = mtin.default_fn_equ_params"
   ]
  },
  {
   "cell_type": "markdown",
   "metadata": {},
   "source": [
    "## Animation"
   ]
  },
  {
   "cell_type": "code",
   "execution_count": null,
   "metadata": {},
   "outputs": [],
   "source": [
    "vmin = None\n",
    "vmax = None"
   ]
  },
  {
   "cell_type": "code",
   "execution_count": null,
   "metadata": {},
   "outputs": [],
   "source": [
    "vmin = -2\n",
    "vmax = 2"
   ]
  },
  {
   "cell_type": "code",
   "execution_count": null,
   "metadata": {},
   "outputs": [],
   "source": [
    "params: dict\n",
    "dir = \"./fn_images/fixed_z_foolery/\"\n",
    "os.makedirs(dir, exist_ok=True)\n",
    "save_params(params, f\"{dir}/params.json\")\n",
    "for a in tqdm(range(0, 1000, 1)):\n",
    "    fig = plt.figure()\n",
    "    fig.set_size_inches((8, 3))\n",
    "    axs = fig.subplots(1, 2, squeeze=False)\n",
    "    axes_image = axs[0, 0].imshow(vs[a], vmin=vmin, vmax=vmax)\n",
    "    plt.colorbar(axes_image, ax=axs[0, 0])\n",
    "    axes_image = axs[0, 1].imshow(ws[a], vmin=vmin, vmax=vmax)\n",
    "    plt.colorbar(axes_image, ax=axs[0, 1])\n",
    "    plt.savefig(f\"{dir}/{a}.png\")\n",
    "    plt.close(fig)"
   ]
  },
  {
   "cell_type": "code",
   "execution_count": 4,
   "metadata": {},
   "outputs": [
    {
     "name": "stdout",
     "output_type": "stream",
     "text": [
      "nt = 3001, nx = 100, ny = 100\n",
      "i = 3000/3001\n",
      "nt = 3001, nx = 100, ny = 100\n",
      "i = 3000/3001\n"
     ]
    }
   ],
   "source": [
    "from animate import animate_video\n",
    "dir = \"./fn_videos/fn_circ_stim/\"\n",
    "os.makedirs(dir, exist_ok=True)\n",
    "save_params(params, f\"{dir}/params.json\")\n",
    "# vws = np.transpose(np.concatenate((vs, np.zeros(gap_shape), ws), axis=2), (0, 2, 1))\n",
    "animate_video(f\"{dir}/vs.mp4\", vs)\n",
    "animate_video(f\"{dir}/ws.mp4\", ws)\n",
    "\n"
   ]
  }
 ],
 "metadata": {
  "interpreter": {
   "hash": "0a326387514bff8cff46362682c6b5d6706650c507f9d6555fe15603d3afa14e"
  },
  "kernelspec": {
   "display_name": "Python 3.8.10 ('vwsn': venv)",
   "language": "python",
   "name": "python3"
  },
  "language_info": {
   "codemirror_mode": {
    "name": "ipython",
    "version": 3
   },
   "file_extension": ".py",
   "mimetype": "text/x-python",
   "name": "python",
   "nbconvert_exporter": "python",
   "pygments_lexer": "ipython3",
   "version": "3.8.10"
  },
  "orig_nbformat": 4
 },
 "nbformat": 4,
 "nbformat_minor": 2
}
