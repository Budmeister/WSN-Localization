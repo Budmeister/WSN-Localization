{
 "cells": [
  {
   "cell_type": "code",
   "execution_count": 1,
   "metadata": {},
   "outputs": [],
   "source": [
    "import numpy as np\n",
    "from matplotlib import pyplot as plt\n",
    "from tqdm import tqdm\n",
    "import os\n",
    "from mutual_information import *\n",
    "import mutual_information as mtin"
   ]
  },
  {
   "cell_type": "code",
   "execution_count": 42,
   "metadata": {},
   "outputs": [],
   "source": [
    "# mtin.default_fn_equ_params[\"circular_stim\"] = True\n",
    "# mtin.default_fn_equ_params[\"stim\"] = [[[25, 40], [55, 55], 10]]\n",
    "T = 20_000\n",
    "dt = 0.01\n",
    "D = 1\n",
    "mtin.default_fn_equ_params.update({\n",
    "    'dt': dt,\n",
    "    'T': T,\n",
    "    'D': D,\n",
    "    'stim': [[[250, 350], [45, 65], [45, 65]]],\n",
    "})\n",
    "mtin.default_fn_equ = FHN(**default_fn_equ_params)\n",
    "# mtin.default_fn_equ = DiffusionPDE(D)\n",
    "mtin.solve_default_fn_equ(resolve=True)\n",
    "# grid, vw0 = mtin.get_default_fn_initial_state()\n",
    "# vw0[0].insert((50, 50), 10)\n",
    "# memory_storage = MemoryStorage()\n",
    "# mtin.default_fn_equ.solve(vw0[0], t_range=T * dt, dt=dt, tracker=[memory_storage.tracker(dt)])\n",
    "# mtin.default_fn_sol = np.array(memory_storage.data)\n",
    "\n"
   ]
  },
  {
   "cell_type": "code",
   "execution_count": 43,
   "metadata": {},
   "outputs": [],
   "source": [
    "vs = ws = mtin.default_fn_sol\n",
    "params = mtin.default_fn_equ_params"
   ]
  },
  {
   "cell_type": "code",
   "execution_count": 44,
   "metadata": {},
   "outputs": [],
   "source": [
    "vs = mtin.default_fn_sol[:, 0]\n",
    "ws = mtin.default_fn_sol[:, 1]\n",
    "params = mtin.default_fn_equ_params"
   ]
  },
  {
   "cell_type": "markdown",
   "metadata": {},
   "source": [
    "## Animation"
   ]
  },
  {
   "cell_type": "code",
   "execution_count": 45,
   "metadata": {},
   "outputs": [],
   "source": [
    "vmin = None\n",
    "vmax = None"
   ]
  },
  {
   "cell_type": "code",
   "execution_count": 46,
   "metadata": {},
   "outputs": [],
   "source": [
    "vmin = -2\n",
    "vmax = 2"
   ]
  },
  {
   "cell_type": "code",
   "execution_count": 47,
   "metadata": {},
   "outputs": [],
   "source": [
    "if False:\n",
    "    params: dict\n",
    "    dir = \"./fn_images/fixed_z_foolery/\"\n",
    "    os.makedirs(dir, exist_ok=True)\n",
    "    save_params(params, f\"{dir}/params.json\")\n",
    "    for a in tqdm(range(0, 1000, 1)):\n",
    "        fig = plt.figure()\n",
    "        fig.set_size_inches((8, 3))\n",
    "        axs = fig.subplots(1, 2, squeeze=False)\n",
    "        axes_image = axs[0, 0].imshow(vs[a], vmin=vmin, vmax=vmax)\n",
    "        plt.colorbar(axes_image, ax=axs[0, 0])\n",
    "        axes_image = axs[0, 1].imshow(ws[a], vmin=vmin, vmax=vmax)\n",
    "        plt.colorbar(axes_image, ax=axs[0, 1])\n",
    "        plt.savefig(f\"{dir}/{a}.png\")\n",
    "        plt.close(fig)"
   ]
  },
  {
   "cell_type": "code",
   "execution_count": 48,
   "metadata": {},
   "outputs": [
    {
     "name": "stdout",
     "output_type": "stream",
     "text": [
      "nt = 20001, nx = 100, ny = 100\n",
      "i = 20000/20001\n",
      "nt = 20001, nx = 100, ny = 100\n",
      "i = 20000/20001\n"
     ]
    }
   ],
   "source": [
    "from animate import animate_video\n",
    "dir = \"./fn_videos/fn_dt_0.01/\"\n",
    "os.makedirs(dir, exist_ok=True)\n",
    "save_params(params, f\"{dir}/params.json\")\n",
    "# vws = np.transpose(np.concatenate((vs, np.zeros(gap_shape), ws), axis=2), (0, 2, 1))\n",
    "animate_video(f\"{dir}/vs.mp4\", vs)\n",
    "animate_video(f\"{dir}/ws.mp4\", ws)\n",
    "\n"
   ]
  }
 ],
 "metadata": {
  "interpreter": {
   "hash": "0a326387514bff8cff46362682c6b5d6706650c507f9d6555fe15603d3afa14e"
  },
  "kernelspec": {
   "display_name": "Python 3.8.10 ('vwsn': venv)",
   "language": "python",
   "name": "python3"
  },
  "language_info": {
   "codemirror_mode": {
    "name": "ipython",
    "version": 3
   },
   "file_extension": ".py",
   "mimetype": "text/x-python",
   "name": "python",
   "nbconvert_exporter": "python",
   "pygments_lexer": "ipython3",
   "version": "3.8.10"
  },
  "orig_nbformat": 4
 },
 "nbformat": 4,
 "nbformat_minor": 2
}
