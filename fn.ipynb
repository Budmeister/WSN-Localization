{
 "cells": [
  {
   "cell_type": "code",
   "execution_count": 1,
   "metadata": {},
   "outputs": [],
   "source": [
    "from pde import *\n",
    "import numpy as np\n",
    "from matplotlib import pyplot as plt\n",
    "from tqdm import tqdm\n",
    "import os\n",
    "import json"
   ]
  },
  {
   "cell_type": "markdown",
   "metadata": {},
   "source": [
    "This function lets me match the parameters to output in case I want to go back to a previous state."
   ]
  },
  {
   "cell_type": "code",
   "execution_count": 2,
   "metadata": {},
   "outputs": [],
   "source": [
    "def save_params(params, dir):\n",
    "    with open(dir, \"w\") as file:\n",
    "        json.dump(params, file)"
   ]
  },
  {
   "cell_type": "markdown",
   "metadata": {},
   "source": [
    "## Not working FN Code"
   ]
  },
  {
   "cell_type": "code",
   "execution_count": null,
   "metadata": {},
   "outputs": [],
   "source": [
    "# https://py-pde.readthedocs.io/en/latest/examples_gallery/pde_coupled.html#sphx-glr-examples-gallery-pde-coupled-py\n",
    "\n",
    "class FitzhughNagumoPDE(PDEBase):\n",
    "    \"\"\"FitzHugh–Nagumo model with diffusive coupling\"\"\"\n",
    "\n",
    "    def __init__(\n",
    "        self,\n",
    "        stimulus=0.5,\n",
    "        τ=10,\n",
    "        a=0,\n",
    "        b=0,\n",
    "        D=1,\n",
    "        w_h=1,\n",
    "        w_l=0.5,\n",
    "        bc=\"auto_periodic_neumann\"\n",
    "    ):\n",
    "        self.bc = bc\n",
    "        self.stimulus = stimulus\n",
    "        self.τ = τ\n",
    "        self.a = a\n",
    "        self.b = b\n",
    "        self.D = D\n",
    "        self.w_h = w_h\n",
    "        self.w_l = w_l\n",
    "\n",
    "    def evolution_rate(self, state, t=0):\n",
    "        v, w = state  # membrane potential and recovery variable\n",
    "\n",
    "        v_t = self.D * v.laplace(bc=self.bc) + self.stimulus + (v - v**3 / 3 - w)# * self.τ\n",
    "        w_t = (v + self.a - self.b * w) / self.τ * ((self.w_h - self.w_l) / (1 + np.exp(-4 * v)) + self.w_l)\n",
    "\n",
    "        return FieldCollection([v_t, w_t])\n",
    "\n",
    "def run_FN1():\n",
    "    # grid = UnitGrid([32, 32])\n",
    "    grid = CartesianGrid([[-1, 1], [-1, 1]], [40, 40])\n",
    "    # state = FieldCollection.scalar_random_uniform(2, grid)\n",
    "    dx = 1/40\n",
    "    origin = np.array([20, 20])\n",
    "    data = np.zeros(shape=(2, 40, 40))\n",
    "    # data[:, 9, 10] = data[:, 10, 9] = data[:, 11, 10] = data[:, 10, 11] = -0.5\n",
    "    # data[:, 10, 10] = -1\n",
    "    data[0, 20, 20] = -1.0367\n",
    "    data[1, 20, 20] = -0.6656\n",
    "\n",
    "    # Cos init\n",
    "    # for i in range(40):\n",
    "    #     for j in range(40):\n",
    "    #         pos = np.array([i, j]) - origin\n",
    "    #         pos = pos.astype(np.float64)\n",
    "    #         pos *= dx\n",
    "    #         r = np.sqrt(np.dot(pos, pos))\n",
    "    #         data[0, i, j] = np.cos(r * 10 * np.pi)\n",
    "    #         data[1, i, j] = np.cos(r * 10 * np.pi)\n",
    "\n",
    "\n",
    "    v_state = ScalarField(grid, data[0])\n",
    "    w_state = ScalarField(grid, data[1])\n",
    "    state = FieldCollection((v_state, w_state))\n",
    "\n",
    "    # Good waves #1\n",
    "    # params = {\n",
    "    #     \"a\": 0.7,\n",
    "    #     \"b\": 0.5,\n",
    "    #     \"τ\": 1/0.85,\n",
    "    #     \"stimulus\": 1,\n",
    "    #     \"D\": 0.0001,\n",
    "    #     \"w_h\": 0.6,\n",
    "    #     \"w_l\": 0.4,\n",
    "    # }\n",
    "\n",
    "    \n",
    "    # N = 128\n",
    "    # T = 1000\n",
    "    # t0 = 0\n",
    "    # dt = 0.1\n",
    "    # s = 0.02 # 0.02 # 0.10\n",
    "    # D = 1.0\n",
    "    # a = 0.5\n",
    "    # b = 0.7\n",
    "    # c = 0.3\n",
    "    # I = 1.0 # 1.0 # 0.5 # 1.0\n",
    "    # Other params\n",
    "    params = {\n",
    "        \"stimulus\": 0,\n",
    "        \"a\": 0.5,\n",
    "        \"b\": 0.7,\n",
    "        \"τ\": 1/0.3,\n",
    "        \"w_h\": 1,\n",
    "        \"w_l\": 1,\n",
    "        \"D\": 1\n",
    "    }\n",
    "\n",
    "    # Chick\n",
    "    # params = {\n",
    "    #     \"a\": 0.7,\n",
    "    #     \"b\": 0.5,\n",
    "    #     \"τ\": 1/0.44,\n",
    "    #     \"stimulus\": 0,\n",
    "    #     \"w_h\": 0.6,\n",
    "    #     \"w_l\": 0.4,\n",
    "    #     \"D\": 0.001\n",
    "    # }\n",
    "    memory_storage = MemoryStorage()\n",
    "    eq = FitzhughNagumoPDE(**params)\n",
    "    result = eq.solve(state, t_range=100, dt=0.01, tracker=[memory_storage.tracker(0.1)])\n",
    "    result.plot()\n",
    "    plot_kymographs(memory_storage)\n",
    "    data = memory_storage.data\n",
    "    data = np.array(data)\n",
    "    vs = data[:, 0, :]\n",
    "    ws = data[:, 1, :]\n",
    "\n",
    "    save_images = False\n",
    "    if save_images:\n",
    "        for a in tqdm(range(0, 1000, 20)):\n",
    "            fig = plt.figure()\n",
    "            fig.set_size_inches((8, 3))\n",
    "            axs = fig.subplots(1, 2, squeeze=False)\n",
    "            axes_image = axs[0, 0].imshow(vs[a], vmin=vmin, vmax=vmax)\n",
    "            plt.colorbar(axes_image, ax=axs[0, 0])\n",
    "            axes_image = axs[0, 1].imshow(ws[a], vmin=vmin, vmax=vmax)\n",
    "            plt.colorbar(axes_image, ax=axs[0, 1])\n",
    "            plt.savefig(f\"./fn_images/{a}.png\")\n",
    "            plt.close(fig)\n",
    "    print(\"Done!\")\n",
    "run_FN1()\n"
   ]
  },
  {
   "cell_type": "markdown",
   "metadata": {},
   "source": [
    "## Working FHN Code"
   ]
  },
  {
   "cell_type": "code",
   "execution_count": 94,
   "metadata": {},
   "outputs": [],
   "source": [
    "class FHN(PDEBase):\n",
    "    def __init__(\n",
    "        self, N, n, T, dt, D, a, b, c, I0, stim, \n",
    "        bc=\"auto_periodic_neumann\", w_h=1, w_l=1\n",
    "    ):\n",
    "        self.N = N\n",
    "        self.n = n\n",
    "        self.T = T\n",
    "        self.dt = dt\n",
    "        self.D = D\n",
    "        self.a = a\n",
    "        self.b = b\n",
    "        self.c = c\n",
    "        self.I = I0\n",
    "        self.bc = bc\n",
    "        self.I = np.zeros((T,n,n))\n",
    "        for st in stim:\n",
    "            t_on, t_off = st[0]\n",
    "            x0, x1 = st[1]\n",
    "            y0, y1 = st[2]\n",
    "            self.I[t_on:t_off, x0:x1, y0:y1] = I0\n",
    "        self.w_h = w_h\n",
    "        self.w_l = w_l\n",
    "\n",
    "    # def make_modify_after_step(self, state: FieldBase):\n",
    "    #     def modify_after_step(state_data: np.ndarray, t=None) -> float:\n",
    "    #         \"\"\"no-op function\"\"\"\n",
    "    #         return 0\n",
    "\n",
    "    #     return modify_after_step\n",
    "\n",
    "    def evolution_rate(self, state, t=0):\n",
    "        v, w = state\n",
    "\n",
    "        dv = (v - v ** 3 / 3 - w + self.I[int(t / self.dt), :, :]) / self.c + self.D * v.laplace(bc=self.bc)\n",
    "        dw = self.c * (v - self.a*w + self.b) * ((self.w_h - self.w_l) / (1 + np.exp(-4 * v)) + self.w_l)\n",
    "        return FieldCollection([dv, dw])\n",
    "        "
   ]
  },
  {
   "cell_type": "code",
   "execution_count": 111,
   "metadata": {},
   "outputs": [
    {
     "data": {
      "image/png": "[encoded data removed]",
      "text/plain": [
       "<Figure size 576x216 with 4 Axes>"
      ]
     },
     "metadata": {
      "needs_background": "light"
     },
     "output_type": "display_data"
    },
    {
     "data": {
      "image/png": "[encoded data removed]",
      "text/plain": [
       "<Figure size 576x216 with 4 Axes>"
      ]
     },
     "metadata": {
      "needs_background": "light"
     },
     "output_type": "display_data"
    },
    {
     "ename": "MemoryError",
     "evalue": "Unable to allocate 8.62 GiB for an array with shape (353, 2, 1280, 1280) and data type float64",
     "output_type": "error",
     "traceback": [
      "\u001b[1;31m---------------------------------------------------------------------------\u001b[0m",
      "\u001b[1;31mMemoryError\u001b[0m                               Traceback (most recent call last)",
      "\u001b[1;32md:\\Repositories\\WSN-Localization\\fn.ipynb Cell 8'\u001b[0m in \u001b[0;36m<cell line: 63>\u001b[1;34m()\u001b[0m\n\u001b[0;32m     <a href='vscode-notebook-cell:/d%3A/Repositories/WSN-Localization/fn.ipynb#ch0000023?line=60'>61</a>\u001b[0m     ws \u001b[39m=\u001b[39m data[:, \u001b[39m1\u001b[39m, :]\n\u001b[0;32m     <a href='vscode-notebook-cell:/d%3A/Repositories/WSN-Localization/fn.ipynb#ch0000023?line=61'>62</a>\u001b[0m     \u001b[39mreturn\u001b[39;00m grid, {\u001b[39m*\u001b[39m\u001b[39m*\u001b[39mparams, \u001b[39m*\u001b[39m\u001b[39m*\u001b[39mother_params}, memory_storage, data, vs, ws\n\u001b[1;32m---> <a href='vscode-notebook-cell:/d%3A/Repositories/WSN-Localization/fn.ipynb#ch0000023?line=62'>63</a>\u001b[0m grid, params, memory_storage, data, vs, ws \u001b[39m=\u001b[39m run_FN2()\n",
      "\u001b[1;32md:\\Repositories\\WSN-Localization\\fn.ipynb Cell 8'\u001b[0m in \u001b[0;36mrun_FN2\u001b[1;34m()\u001b[0m\n\u001b[0;32m     <a href='vscode-notebook-cell:/d%3A/Repositories/WSN-Localization/fn.ipynb#ch0000023?line=56'>57</a>\u001b[0m plot_kymographs(memory_storage)\n\u001b[0;32m     <a href='vscode-notebook-cell:/d%3A/Repositories/WSN-Localization/fn.ipynb#ch0000023?line=57'>58</a>\u001b[0m data \u001b[39m=\u001b[39m memory_storage\u001b[39m.\u001b[39mdata\n\u001b[1;32m---> <a href='vscode-notebook-cell:/d%3A/Repositories/WSN-Localization/fn.ipynb#ch0000023?line=58'>59</a>\u001b[0m data \u001b[39m=\u001b[39m np\u001b[39m.\u001b[39;49marray(data)\n\u001b[0;32m     <a href='vscode-notebook-cell:/d%3A/Repositories/WSN-Localization/fn.ipynb#ch0000023?line=59'>60</a>\u001b[0m vs \u001b[39m=\u001b[39m data[:, \u001b[39m0\u001b[39m, :]\n\u001b[0;32m     <a href='vscode-notebook-cell:/d%3A/Repositories/WSN-Localization/fn.ipynb#ch0000023?line=60'>61</a>\u001b[0m ws \u001b[39m=\u001b[39m data[:, \u001b[39m1\u001b[39m, :]\n",
      "\u001b[1;31mMemoryError\u001b[0m: Unable to allocate 8.62 GiB for an array with shape (353, 2, 1280, 1280) and data type float64"
     ]
    }
   ],
   "source": [
    "def run_FN2():\n",
    "    T = 1000\n",
    "    t0 = 0\n",
    "    dt = 0.1\n",
    "    dx = 0.1\n",
    "    s = 0.02 # 0.02 # 0.10\n",
    "\n",
    "    N = 128\n",
    "    n = int(N / dx)\n",
    "    D = 0.01\n",
    "    a = 0.5\n",
    "    b = 0.7\n",
    "    c = 0.3\n",
    "    I = 1.0 # 1.0 # 0.5 # 1.0\n",
    "    w_h = 1\n",
    "    w_l = 1\n",
    "    stim = [ [[25, 40], [n // 2 - 5, n // 2 + 5], [n // 2 - 5, n // 2 + 5]] ]\n",
    "    \n",
    "    other_params = {\n",
    "        \"dx\": dx\n",
    "    }\n",
    "    params = {\n",
    "        \"N\": N,\n",
    "        \"n\": n,\n",
    "        \"T\": T,\n",
    "        \"dt\": dt,\n",
    "        \"D\": D,\n",
    "        \"a\": a,\n",
    "        \"b\": b,\n",
    "        \"c\": c,\n",
    "        \"I0\": I,\n",
    "        # stim protocol, array of elements [[t0,t1], [x0,x1], [y0,y1]]\n",
    "        \"stim\": stim,\n",
    "\n",
    "        \"w_h\": w_h,\n",
    "        \"w_l\": w_l\n",
    "    }\n",
    "    eq = FHN(**params)\n",
    "\n",
    "    def get_initial_state():\n",
    "        # grid = UnitGrid((N, N))\n",
    "        shape = (n, n)\n",
    "        grid = CartesianGrid([(0, N), (0, N)], shape)\n",
    "        data_v = np.zeros(shape)\n",
    "        data_w = np.zeros(shape)\n",
    "        # data_v[N // 2, N // 2] = I\n",
    "        v0 = ScalarField(grid, data_v)\n",
    "        w0 = ScalarField(grid, data_w)\n",
    "        return grid, FieldCollection((v0, w0))\n",
    "\n",
    "    grid, vw0 = get_initial_state()\n",
    "    memory_storage = MemoryStorage()\n",
    "    result = eq.solve(vw0, t_range=T * dt, dt=dt, tracker=[memory_storage.tracker(dt)])#, method=ExplicitTModSolver, adaptive=False)\n",
    "\n",
    "    # Plotting\n",
    "    result.plot()\n",
    "    plot_kymographs(memory_storage)\n",
    "    data = memory_storage.data\n",
    "    data = np.array(data)\n",
    "    vs = data[:, 0, :]\n",
    "    ws = data[:, 1, :]\n",
    "    return grid, {**params, **other_params}, memory_storage, data, vs, ws\n",
    "grid, params, memory_storage, data, vs, ws = run_FN2()\n"
   ]
  },
  {
   "cell_type": "markdown",
   "metadata": {},
   "source": [
    "Unused solver that allows me to modify the state after each step."
   ]
  },
  {
   "cell_type": "code",
   "execution_count": null,
   "metadata": {},
   "outputs": [],
   "source": [
    "\n",
    "from typing import Callable, Tuple\n",
    "from pde.tools.numba import jit\n",
    "\n",
    "class ExplicitTModSolver(ExplicitSolver):\n",
    "    def _make_fixed_euler_stepper(\n",
    "        self, state: FieldBase, dt: float\n",
    "    ) -> Callable[[np.ndarray, float, int], Tuple[float, float]]:\n",
    "        \"\"\"make a simple Euler stepper with fixed time step\n",
    "\n",
    "        Args:\n",
    "            state (:class:`~pde.fields.base.FieldBase`):\n",
    "                An example for the state from which the grid and other information can\n",
    "                be extracted\n",
    "            dt (float):\n",
    "                Time step of the explicit stepping.\n",
    "\n",
    "        Returns:\n",
    "            Function that can be called to advance the `state` from time `t_start` to\n",
    "            time `t_end`. The function call signature is `(state: numpy.ndarray,\n",
    "            t_start: float, steps: int)`\n",
    "        \"\"\"\n",
    "        # obtain post-step action function\n",
    "        modify_after_step = jit(self.pde.make_modify_after_step(state))\n",
    "\n",
    "        if self.pde.is_sde:\n",
    "            # handle stochastic version of the pde\n",
    "            rhs_sde = self._make_sde_rhs(state, backend=self.backend)\n",
    "\n",
    "            def stepper(\n",
    "                state_data: np.ndarray, t_start: float, steps: int\n",
    "            ) -> Tuple[float, float]:\n",
    "                \"\"\"compiled inner loop for speed\"\"\"\n",
    "                modifications = 0.0\n",
    "                for i in range(steps):\n",
    "                    # calculate the right hand side\n",
    "                    t = t_start + i * dt\n",
    "                    evolution_rate, noise_realization = rhs_sde(state_data, t)\n",
    "                    state_data += dt * evolution_rate\n",
    "                    if noise_realization is not None:\n",
    "                        state_data += np.sqrt(dt) * noise_realization\n",
    "                    modifications += modify_after_step(state_data, t)\n",
    "\n",
    "                return t + dt, modifications\n",
    "\n",
    "            self.info[\"stochastic\"] = True\n",
    "            self._logger.info(\n",
    "                f\"Initialized explicit Euler-Maruyama stepper with dt=%g\", dt\n",
    "            )\n",
    "\n",
    "        else:\n",
    "            # handle deterministic version of the pde\n",
    "            rhs_pde = self._make_pde_rhs(state, backend=self.backend)\n",
    "\n",
    "            def stepper(\n",
    "                state_data: np.ndarray, t_start: float, steps: int\n",
    "            ) -> Tuple[float, float]:\n",
    "                \"\"\"compiled inner loop for speed\"\"\"\n",
    "                modifications = 0\n",
    "                for i in range(steps):\n",
    "                    # calculate the right hand side\n",
    "                    t = t_start + i * dt\n",
    "                    state_data += dt * rhs_pde(state_data, t)\n",
    "                    modifications += modify_after_step(state_data)\n",
    "\n",
    "                return t + dt, modifications\n",
    "\n",
    "            self.info[\"stochastic\"] = False\n",
    "            self.info[\"adaptive\"] = False\n",
    "            self._logger.info(f\"Initialized explicit Euler stepper with dt=%g\", dt)\n",
    "\n",
    "        return stepper\n"
   ]
  },
  {
   "cell_type": "markdown",
   "metadata": {},
   "source": [
    "## Pandas visualization"
   ]
  },
  {
   "cell_type": "code",
   "execution_count": null,
   "metadata": {},
   "outputs": [],
   "source": [
    "import pandas as pd\n",
    "v_state = ScalarField(grid, data[0, 0])\n",
    "w_state = ScalarField(grid, data[1, 0])\n",
    "D = 1\n",
    "bc = \"auto_periodic_neumann\"\n",
    "τ = 1/0.44\n",
    "stimulus = 0\n",
    "v_t = D * v_state.laplace(bc=bc)# + τ * (v_state - v_state**3 / 3 - w_state) + stimulus\n",
    "v_t.data\n",
    "df = pd.DataFrame(v_t.data)\n",
    "df.style\n"
   ]
  },
  {
   "cell_type": "markdown",
   "metadata": {},
   "source": [
    "## Root plot"
   ]
  },
  {
   "cell_type": "code",
   "execution_count": 7,
   "metadata": {},
   "outputs": [
    {
     "data": {
      "image/png": "[encoded data removed]",
      "text/plain": [
       "<Figure size 432x288 with 1 Axes>"
      ]
     },
     "metadata": {
      "needs_background": "light"
     },
     "output_type": "display_data"
    },
    {
     "data": {
      "image/png": "[encoded data removed]",
      "text/plain": [
       "<Figure size 432x288 with 1 Axes>"
      ]
     },
     "metadata": {
      "needs_background": "light"
     },
     "output_type": "display_data"
    }
   ],
   "source": [
    "# rootx, rooty = 20, 20\n",
    "rootx, rooty = 64, 64\n",
    "\n",
    "top_v = vs[:, rootx, rooty]\n",
    "top_w = ws[:, rootx, rooty]\n",
    "bc = \"auto_periodic_neumann\"\n",
    "lap_v = np.empty(len(top_v))\n",
    "lap_w = np.empty(len(top_w))\n",
    "for a in range(len(top_v)):\n",
    "    lap = ScalarField(grid, vs[a]).laplace(bc=bc)\n",
    "    lap_v[a] = lap.data[rootx, rooty]\n",
    "    lap = ScalarField(grid, ws[a]).laplace(bc=bc)\n",
    "    lap_w[a] = lap.data[rootx, rooty]\n",
    "\n",
    "plt.plot(lap_v)\n",
    "plt.plot(lap_w)\n",
    "plt.xlabel(\"time\")\n",
    "plt.ylabel(\"Laplace at root\")\n",
    "plt.show()\n",
    "plt.plot(top_v, label=\"v\")\n",
    "plt.plot(top_w, label=\"w\")\n",
    "plt.legend()\n",
    "plt.xlabel(\"time\")\n",
    "plt.ylabel(\"State at root\")\n",
    "plt.show()"
   ]
  },
  {
   "cell_type": "code",
   "execution_count": null,
   "metadata": {},
   "outputs": [],
   "source": [
    "plt.plot(top_v[0:20])\n",
    "plt.plot(lap_v[0:20])"
   ]
  },
  {
   "cell_type": "code",
   "execution_count": 8,
   "metadata": {},
   "outputs": [],
   "source": [
    "vmin = None\n",
    "vmax = None"
   ]
  },
  {
   "cell_type": "code",
   "execution_count": 11,
   "metadata": {},
   "outputs": [],
   "source": [
    "vmin = -2\n",
    "vmax = 2"
   ]
  },
  {
   "cell_type": "markdown",
   "metadata": {},
   "source": [
    "## Animation"
   ]
  },
  {
   "cell_type": "code",
   "execution_count": 26,
   "metadata": {},
   "outputs": [
    {
     "name": "stderr",
     "output_type": "stream",
     "text": [
      "100%|██████████| 1000/1000 [04:32<00:00,  3.67it/s]\n"
     ]
    }
   ],
   "source": [
    "\n",
    "dir = \"./fn_images/fixed_z_fhn2d/\"\n",
    "os.makedirs(dir, exist_ok=True)\n",
    "save_params(params, f\"{dir}/params.json\")\n",
    "for a in tqdm(range(0, 1000, 1)):\n",
    "    fig = plt.figure()\n",
    "    fig.set_size_inches((8, 3))\n",
    "    axs = fig.subplots(1, 2, squeeze=False)\n",
    "    axes_image = axs[0, 0].imshow(vs[a], vmin=vmin, vmax=vmax)\n",
    "    plt.colorbar(axes_image, ax=axs[0, 0])\n",
    "    axes_image = axs[0, 1].imshow(ws[a], vmin=vmin, vmax=vmax)\n",
    "    plt.colorbar(axes_image, ax=axs[0, 1])\n",
    "    plt.savefig(f\"{dir}/{a}.png\")\n",
    "    plt.close(fig)"
   ]
  },
  {
   "cell_type": "code",
   "execution_count": 113,
   "metadata": {},
   "outputs": [],
   "source": [
    "np.save(\"./data.npy\", data)\n"
   ]
  },
  {
   "cell_type": "code",
   "execution_count": 112,
   "metadata": {},
   "outputs": [
    {
     "name": "stdout",
     "output_type": "stream",
     "text": [
      "nt = 1001, nx = 12, ny = 12\n",
      "i = 1000/1001\n",
      "nt = 1001, nx = 12, ny = 12\n",
      "i = 1000/1001\n"
     ]
    }
   ],
   "source": [
    "from fhn2d import animate_video\n",
    "dir = \"./fn_videos/fhn2d_dx/\"\n",
    "os.makedirs(dir, exist_ok=True)\n",
    "save_params(params, f\"{dir}/params.json\")\n",
    "# vws = np.transpose(np.concatenate((vs, np.zeros(gap_shape), ws), axis=2), (0, 2, 1))\n",
    "animate_video(f\"{dir}/vs.mp4\", vs)\n",
    "animate_video(f\"{dir}/ws.mp4\", ws)\n",
    "\n"
   ]
  }
 ],
 "metadata": {
  "interpreter": {
   "hash": "0a326387514bff8cff46362682c6b5d6706650c507f9d6555fe15603d3afa14e"
  },
  "kernelspec": {
   "display_name": "Python 3.8.10 ('vwsn': venv)",
   "language": "python",
   "name": "python3"
  },
  "language_info": {
   "codemirror_mode": {
    "name": "ipython",
    "version": 3
   },
   "file_extension": ".py",
   "mimetype": "text/x-python",
   "name": "python",
   "nbconvert_exporter": "python",
   "pygments_lexer": "ipython3",
   "version": "3.8.10"
  },
  "orig_nbformat": 4
 },
 "nbformat": 4,
 "nbformat_minor": 2
}
