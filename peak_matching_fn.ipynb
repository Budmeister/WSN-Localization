{
 "cells": [
  {
   "cell_type": "markdown",
   "metadata": {},
   "source": [
    "# `peak_matching_fn.ipynb`\n",
    "The goal of this file is to implement the method used in `peak_matching.ipynb` for the FN model. If it works, it should be added to `peak_matching.py`."
   ]
  },
  {
   "cell_type": "code",
   "execution_count": 1,
   "metadata": {},
   "outputs": [],
   "source": [
    "from matplotlib import pyplot as plt\n",
    "import numpy as np\n",
    "from numba import jit\n",
    "from color import *\n",
    "import mutual_information as mtin\n",
    "from WSN import *\n",
    "from tqdm import tqdm"
   ]
  },
  {
   "cell_type": "code",
   "execution_count": 2,
   "metadata": {},
   "outputs": [],
   "source": [
    "if mtin.default_fn_sol is None:\n",
    "    mtin.default_fn_equ_params[\"T\"] = 20_000\n",
    "    mtin.default_fn_equ_params[\"dt\"] = 0.01\n",
    "    mtin.default_fn_sol = np.load(\"default_fn_sol_dt_0.01.npy\")"
   ]
  },
  {
   "cell_type": "code",
   "execution_count": 3,
   "metadata": {},
   "outputs": [],
   "source": [
    "@jit(nopython=True)\n",
    "def dist2(r1: np.ndarray, r2: np.ndarray):\n",
    "    diff = r1 - r2\n",
    "    return np.dot(diff, diff)\n",
    "\n",
    "@jit(nopython=True)\n",
    "def dist(r1: np.ndarray, r2: np.ndarray):\n",
    "    return np.sqrt(dist2(r1, r2))"
   ]
  },
  {
   "cell_type": "code",
   "execution_count": 4,
   "metadata": {},
   "outputs": [],
   "source": [
    "@jit(nopython=True)\n",
    "def get_points_frames(nodes: np.ndarray, times: np.ndarray, points: np.ndarray, frames: int, wavelength: float, period: float, epsilon: float):\n",
    "    points_frames = np.empty((frames, *points.shape))\n",
    "    combinatory_dxs = np.empty((frames, len(points)))\n",
    "    for frame in range(frames):\n",
    "        for p, point in enumerate(points):\n",
    "            dx = np.zeros(2)\n",
    "            combinatory_dx = 0.0\n",
    "            for node, t in zip(nodes, times):\n",
    "                d = dist(point, node)\n",
    "                rhat = (node - point) / d\n",
    "                dx_mag = np.sin(2 * np.pi * (d / wavelength - t / period))\n",
    "                dx += rhat * dx_mag\n",
    "                combinatory_dx += np.abs(dx_mag)\n",
    "            point += epsilon * dx\n",
    "            combinatory_dxs[frame, p] = epsilon * combinatory_dx\n",
    "        points_frames[frame] = points\n",
    "    return points_frames, combinatory_dxs"
   ]
  },
  {
   "cell_type": "code",
   "execution_count": 5,
   "metadata": {},
   "outputs": [
    {
     "name": "stdout",
     "output_type": "stream",
     "text": [
      "6\n"
     ]
    }
   ],
   "source": [
    "N = 6\n",
    "c = 1.6424885622140555\n",
    "wsn = WSN(100, N, std=0, D=142, c=c)\n",
    "bb = wsn.reset_nodes_bounding_box()\n",
    "wsn.reset_anchors(N)\n",
    "wsn.nodes = wsn.nodes.astype(np.int32)\n"
   ]
  },
  {
   "cell_type": "code",
   "execution_count": 6,
   "metadata": {},
   "outputs": [
    {
     "data": {
      "text/plain": [
       "array([[54,  7],\n",
       "       [65, 52],\n",
       "       [74, 35],\n",
       "       [47, 48],\n",
       "       [74,  4],\n",
       "       [43, 33]])"
      ]
     },
     "execution_count": 6,
     "metadata": {},
     "output_type": "execute_result"
    }
   ],
   "source": [
    "wsn.nodes"
   ]
  },
  {
   "cell_type": "code",
   "execution_count": 7,
   "metadata": {},
   "outputs": [
    {
     "data": {
      "text/plain": [
       "(6, 16001, 2)"
      ]
     },
     "execution_count": 7,
     "metadata": {},
     "output_type": "execute_result"
    }
   ],
   "source": [
    "mtin.get_fn_data(1000, wsn.nodes, start_frame=4000).shape"
   ]
  },
  {
   "cell_type": "code",
   "execution_count": 8,
   "metadata": {},
   "outputs": [],
   "source": [
    "xs = np.arange(0, 100, 1.0)\n",
    "ys = np.arange(0, 100, 1.0)\n",
    "xs, ys = points = np.array(np.meshgrid(xs, ys)).reshape((2, -1))\n",
    "points = points.T\n",
    "r0 = np.array([55, 55])"
   ]
  },
  {
   "cell_type": "code",
   "execution_count": 9,
   "metadata": {},
   "outputs": [
    {
     "name": "stderr",
     "output_type": "stream",
     "text": [
      "d:\\Repositories\\WSN-Localization\\mutual_information.py:105: RuntimeWarning: divide by zero encountered in log\n",
      "  mi = -0.5 * np.log(np.linalg.det(cor))\n"
     ]
    }
   ],
   "source": [
    "results = wsn.transmit_continuous(signal_type=\"fn\", start_frame=4000)\n",
    "all_peaks, period = mtin.get_fn_peaks_inside_period(results, c)\n",
    "wavelength = period * c\n",
    "times = np.concatenate(([0], all_peaks[:, 1]))"
   ]
  },
  {
   "cell_type": "code",
   "execution_count": 10,
   "metadata": {},
   "outputs": [
    {
     "data": {
      "text/plain": [
       "array([ 0.  , -3.81, -3.29, -2.66, -3.6 ,  0.08])"
      ]
     },
     "execution_count": 10,
     "metadata": {},
     "output_type": "execute_result"
    }
   ],
   "source": [
    "times"
   ]
  },
  {
   "cell_type": "code",
   "execution_count": 11,
   "metadata": {},
   "outputs": [
    {
     "name": "stderr",
     "output_type": "stream",
     "text": [
      "100%|██████████| 100/100 [15:59<00:00,  9.60s/it]\n"
     ]
    }
   ],
   "source": [
    "dx_errs = []\n",
    "est_poss = []\n",
    "for ph0 in tqdm(np.arange(0, 1, 0.01)):\n",
    "    points_frames, combinatory_dxs = get_points_frames(wsn.nodes, times + ph0 * period, points, 300, wavelength=wavelength, period=period, epsilon=0.1)\n",
    "    argmin = np.nanargmin(combinatory_dxs[-1])\n",
    "    est_pos = points_frames[-1, argmin]\n",
    "    dx_errs.append(combinatory_dxs[-1, argmin])\n",
    "    est_poss.append(est_pos)\n",
    "dx_errs = np.array(dx_errs)\n",
    "est_poss = np.array(est_poss)\n"
   ]
  },
  {
   "cell_type": "code",
   "execution_count": 12,
   "metadata": {},
   "outputs": [],
   "source": [
    "def plot_points_frame(points_frame, combinatory_dxs):\n",
    "    mincd = np.nanmin(combinatory_dxs)\n",
    "    maxcd = np.nanmax(combinatory_dxs)\n",
    "    plt.scatter(\n",
    "        points_frame[:, 0], points_frame[:, 1], s=1, \n",
    "        c=[\n",
    "            interpolate_color(\"#1010ee\", \"#d4d4d4\", (cd - mincd) / (maxcd - mincd)).get_hex()\n",
    "            if not np.isnan(cd) else \"#d4d4d4\"\n",
    "            for cd in combinatory_dxs\n",
    "        ]\n",
    "    )\n",
    "    plt.scatter(\n",
    "        *points_frame[np.nanargmin(combinatory_dxs)], marker='x', c=\"red\"\n",
    "    )"
   ]
  },
  {
   "cell_type": "code",
   "execution_count": 13,
   "metadata": {},
   "outputs": [
    {
     "data": {
      "image/png": "[encoded data removed]",
      "text/plain": [
       "<Figure size 432x288 with 1 Axes>"
      ]
     },
     "metadata": {
      "needs_background": "light"
     },
     "output_type": "display_data"
    }
   ],
   "source": [
    "plot_points_frame(points_frames[-1], combinatory_dxs[-1])"
   ]
  },
  {
   "cell_type": "code",
   "execution_count": 14,
   "metadata": {},
   "outputs": [
    {
     "data": {
      "text/plain": [
       "(array([55, 55]), array([ 36.2242939 , -15.46361821]), 0.06443255315533705)"
      ]
     },
     "execution_count": 14,
     "metadata": {},
     "output_type": "execute_result"
    }
   ],
   "source": [
    "argmin = np.argmin(dx_errs)\n",
    "r0, est_poss[argmin], dx_errs[argmin]"
   ]
  },
  {
   "cell_type": "code",
   "execution_count": 16,
   "metadata": {},
   "outputs": [
    {
     "data": {
      "image/png": "[encoded data removed]",
      "text/plain": [
       "<Figure size 432x288 with 1 Axes>"
      ]
     },
     "metadata": {
      "needs_background": "light"
     },
     "output_type": "display_data"
    },
    {
     "data": {
      "image/png": "[encoded data removed]",
      "text/plain": [
       "<Figure size 432x288 with 1 Axes>"
      ]
     },
     "metadata": {
      "needs_background": "light"
     },
     "output_type": "display_data"
    }
   ],
   "source": [
    "plt.plot(np.arange(0, 1, 0.01), dx_errs)\n",
    "plt.show()\n",
    "plt.scatter(est_poss[:, 0], est_poss[:, 1])\n",
    "plt.scatter(*est_poss[np.argmin(dx_errs)])\n",
    "plt.show()"
   ]
  }
 ],
 "metadata": {
  "kernelspec": {
   "display_name": "Python 3.8.10 ('vwsn': venv)",
   "language": "python",
   "name": "python3"
  },
  "language_info": {
   "codemirror_mode": {
    "name": "ipython",
    "version": 3
   },
   "file_extension": ".py",
   "mimetype": "text/x-python",
   "name": "python",
   "nbconvert_exporter": "python",
   "pygments_lexer": "ipython3",
   "version": "3.8.10"
  },
  "orig_nbformat": 4,
  "vscode": {
   "interpreter": {
    "hash": "0a326387514bff8cff46362682c6b5d6706650c507f9d6555fe15603d3afa14e"
   }
  }
 },
 "nbformat": 4,
 "nbformat_minor": 2
}
